{
 "cells": [
  {
   "cell_type": "markdown",
   "metadata": {},
   "source": [
    "#  Python3 code to demonstrate  \n",
    "# Filling alphabets \n",
    "# using naive method \n",
    "  \n",
    "# initializing empty list  \n",
    "test_list = [] \n",
    "  \n",
    "# printing initial list  \n",
    "print (\"Initial list : \" + str(test_list)) \n",
    "  \n",
    "# using naive method \n",
    "# for filling alphabets \n",
    "alpha = 'a'\n",
    "for i in range(0, 26): \n",
    "    test_list.append(alpha) \n",
    "    alpha = chr(ord(alpha) + 1)  \n",
    "  \n",
    "# printing resultant list  \n",
    "print (\"List after insertion : \" + str(test_list)) "
   ]
  },
  {
   "cell_type": "code",
   "execution_count": 7,
   "metadata": {},
   "outputs": [
    {
     "data": {
      "text/plain": [
       "([1, 2, 3, 4], [2, 3, 4, 5], [5, 6, 7, 8])"
      ]
     },
     "execution_count": 7,
     "metadata": {},
     "output_type": "execute_result"
    }
   ],
   "source": [
    "List_1=[1,2,3,4]\n",
    "List_2=[2,3,4,5]\n",
    "List_3=[5,6,7,8]\n",
    "Matrix=(List_1,List_2,List_3)\n",
    "Matrix "
   ]
  },
  {
   "cell_type": "code",
   "execution_count": 8,
   "metadata": {},
   "outputs": [
    {
     "data": {
      "text/plain": [
       "[2, 3, 4, 5]"
      ]
     },
     "execution_count": 8,
     "metadata": {},
     "output_type": "execute_result"
    }
   ],
   "source": [
    "Matrix[1]"
   ]
  },
  {
   "cell_type": "code",
   "execution_count": 9,
   "metadata": {},
   "outputs": [
    {
     "data": {
      "text/plain": [
       "1"
      ]
     },
     "execution_count": 9,
     "metadata": {},
     "output_type": "execute_result"
    }
   ],
   "source": [
    "Matrix[0][0]"
   ]
  },
  {
   "cell_type": "code",
   "execution_count": 10,
   "metadata": {},
   "outputs": [
    {
     "data": {
      "text/plain": [
       "3"
      ]
     },
     "execution_count": 10,
     "metadata": {},
     "output_type": "execute_result"
    }
   ],
   "source": [
    "Matrix[1][1]"
   ]
  },
  {
   "cell_type": "code",
   "execution_count": 11,
   "metadata": {},
   "outputs": [
    {
     "data": {
      "text/plain": [
       "7"
      ]
     },
     "execution_count": 11,
     "metadata": {},
     "output_type": "execute_result"
    }
   ],
   "source": [
    "Matrix[2][2]"
   ]
  },
  {
   "cell_type": "code",
   "execution_count": 20,
   "metadata": {},
   "outputs": [
    {
     "data": {
      "text/plain": [
       "[1, 2, 3, 4, 5]"
      ]
     },
     "execution_count": 20,
     "metadata": {},
     "output_type": "execute_result"
    }
   ],
   "source": [
    "List_1=[1,2,3,4]\n",
    "List_1.append(5)\n",
    "List_1\n"
   ]
  },
  {
   "cell_type": "code",
   "execution_count": 26,
   "metadata": {},
   "outputs": [
    {
     "data": {
      "text/plain": [
       "3"
      ]
     },
     "execution_count": 26,
     "metadata": {},
     "output_type": "execute_result"
    }
   ],
   "source": [
    "x=[1,2,3,4]#Basically pop index wise pop\n",
    "x.pop(2)"
   ]
  },
  {
   "cell_type": "code",
   "execution_count": 27,
   "metadata": {},
   "outputs": [
    {
     "data": {
      "text/plain": [
       "1"
      ]
     },
     "execution_count": 27,
     "metadata": {},
     "output_type": "execute_result"
    }
   ],
   "source": [
    "x.pop(0)"
   ]
  },
  {
   "cell_type": "code",
   "execution_count": 34,
   "metadata": {},
   "outputs": [
    {
     "data": {
      "text/plain": [
       "[1, 3, 4]"
      ]
     },
     "execution_count": 34,
     "metadata": {},
     "output_type": "execute_result"
    }
   ],
   "source": [
    "list=[1,2,3,4]#Bsically number wise remove\n",
    "list.remove(2)\n",
    "list"
   ]
  },
  {
   "cell_type": "code",
   "execution_count": 42,
   "metadata": {},
   "outputs": [
    {
     "data": {
      "text/plain": [
       "[5, 3, 2, 4, 5, 6, 7, 9, 8]"
      ]
     },
     "execution_count": 42,
     "metadata": {},
     "output_type": "execute_result"
    }
   ],
   "source": [
    "list=[5,3,2,4,5,6,7,9,8]\n",
    "list"
   ]
  },
  {
   "cell_type": "code",
   "execution_count": 52,
   "metadata": {},
   "outputs": [
    {
     "data": {
      "text/plain": [
       "[2, 3, 4, 5, 5, 6, 7, 8, 9]"
      ]
     },
     "execution_count": 52,
     "metadata": {},
     "output_type": "execute_result"
    }
   ],
   "source": [
    "list.sort()#sorting means the order assending oreder small number to bigger number\n",
    "list"
   ]
  },
  {
   "cell_type": "code",
   "execution_count": 51,
   "metadata": {},
   "outputs": [
    {
     "name": "stdout",
     "output_type": "stream",
     "text": [
      "Initial List :  [[1, 2, 3], [4, 5, 6], [7, 8, 9]]\n",
      "Final list :  [12, 15, 18]\n"
     ]
    }
   ],
   "source": [
    "# Pyhton code to demonstrate \n",
    "# sum of list of list using \n",
    "# zip and list comprehension \n",
    "\n",
    "# Declaring initial list of list \n",
    "List = [[1, 2, 3], \n",
    "\t\t[4, 5, 6], \n",
    "\t\t[7, 8, 9]] \n",
    "\t\t\n",
    "# Printing list of list \n",
    "print(\"Initial List : \", str(List)) \n",
    "\n",
    "# Using list comprehension \n",
    "res = [sum(i) for i in zip(*List)] #zip is a function using adding list data and astrisk (*)basically point to list\n",
    "\t\n",
    "# printing result \n",
    "print(\"Final list : \", str(res)) \n",
    " \n"
   ]
  },
  {
   "cell_type": "code",
   "execution_count": 50,
   "metadata": {},
   "outputs": [
    {
     "name": "stdout",
     "output_type": "stream",
     "text": [
      "Initial List :  [[1 2 3]\n",
      " [4 5 6]\n",
      " [7 8 9]]\n",
      "Final list :  [12 15 18]\n"
     ]
    }
   ],
   "source": [
    "# Pyhton code to demonstrate \n",
    "# sum of list of list \n",
    "# using numpy array functions \n",
    "import numpy as np \n",
    "\n",
    "# Declaring initial list of list \n",
    "List = np.array([[1, 2, 3], \n",
    "\t\t\t\t[4, 5, 6], \n",
    "\t\t\t\t[7, 8, 9]]) \n",
    "\t\t\n",
    "# Printing list of list \n",
    "print(\"Initial List : \", str(List)) \n",
    "\n",
    "# Using numpy sum \n",
    "res = np.sum(List, 0) \n",
    "\t\n",
    "# printing result \n",
    "print(\"Final list : \", str(res)) \n"
   ]
  },
  {
   "cell_type": "code",
   "execution_count": 62,
   "metadata": {},
   "outputs": [],
   "source": [
    "Input: list1 = [\"a\", \"b\", \"c\", \"d\", \"e\", \"f\", \"g\", \"h\", \"i\"]\n",
    "list2 = [ 0,   1,   1,    0,   1,   2,   2,   0,   1]\n"
   ]
  },
  {
   "cell_type": "code",
   "execution_count": 68,
   "metadata": {},
   "outputs": [],
   "source": [
    "#Approach :\n",
    "\n",
    "#1.Zip the two lists.\n",
    "#2.Create a new, sorted list based on the zip using sorted().\n",
    "#3.Using a list comprehension extract the first elements of each pair from the sorted, zipped list.\n",
    "#Concept :\n",
    "\n",
    "#The purpose of zip() is to map the similar index of multiple containers so that they can be used just using as single entity.\n",
    "\n",
    "#Below is the implementation of above approach:\n"
   ]
  },
  {
   "cell_type": "code",
   "execution_count": 67,
   "metadata": {},
   "outputs": [
    {
     "name": "stdout",
     "output_type": "stream",
     "text": [
      "['a', 'd', 'h', 'b', 'c', 'e', 'i', 'f', 'g']\n",
      "['g', 'k', 'r', 'e', 'e', 'g', 's', 'f', 'o']\n"
     ]
    }
   ],
   "source": [
    "# Python program to sort \n",
    "# one list using \n",
    "# the other list \n",
    "\n",
    "def sort_list(list1, list2): \n",
    "\n",
    "\tzipped_pairs = zip(list2, list1) \n",
    "\n",
    "\tz = [x for _, x in sorted(zipped_pairs)] \n",
    "\t\n",
    "\treturn z \n",
    "\t\n",
    "\n",
    "# driver code \n",
    "x = [\"a\", \"b\", \"c\", \"d\", \"e\", \"f\", \"g\", \"h\", \"i\"] \n",
    "y = [ 0, 1, 1, 0, 1, 2, 2, 0, 1] \n",
    "\n",
    "print(sort_list(x, y)) \n",
    "\n",
    "x = [\"g\", \"e\", \"e\", \"k\", \"s\", \"f\", \"o\", \"r\", \"g\", \"e\", \"e\", \"k\", \"s\"] \n",
    "y = [ 0, 1, 1, 0, 1, 2, 2, 0, 1] \n",
    "\n",
    "print(sort_list(x, y)) \n"
   ]
  },
  {
   "cell_type": "code",
   "execution_count": 71,
   "metadata": {},
   "outputs": [
    {
     "name": "stdout",
     "output_type": "stream",
     "text": [
      "3\n",
      "4\n"
     ]
    }
   ],
   "source": [
    "# Python3 program for demonstration \n",
    "# of list index() method \n",
    "\n",
    "# Random list having sublist and tuple also \n",
    "list1 = [1, 2, 3, [9, 8, 7], ('cat', 'bat')] \n",
    "\n",
    "# Will print the index of sublist [9, 8, 7] \n",
    "print(list1.index([9, 8, 7])) \n",
    "\n",
    "# Will print the index of tuple \n",
    "# ('cat', 'bat') inside list \n",
    "print(list1.index(('cat', 'bat'))) \n"
   ]
  },
  {
   "cell_type": "code",
   "execution_count": 80,
   "metadata": {},
   "outputs": [
    {
     "name": "stdout",
     "output_type": "stream",
     "text": [
      "The length of list is:  4\n"
     ]
    }
   ],
   "source": [
    "# Python program to demonstrate working \n",
    "# of len() \n",
    "a = [] \n",
    "a.append(\"Hello\") \n",
    "a.append(\"Geeks\") \n",
    "a.append(\"For\") \n",
    "a.append(\"Geeks\") \n",
    "print(\"The length of list is: \", len(a)) \n"
   ]
  },
  {
   "cell_type": "code",
   "execution_count": 81,
   "metadata": {},
   "outputs": [
    {
     "data": {
      "text/plain": [
       "['Hello', 'Geeks', 'For', 'Geeks']"
      ]
     },
     "execution_count": 81,
     "metadata": {},
     "output_type": "execute_result"
    }
   ],
   "source": [
    "a"
   ]
  },
  {
   "cell_type": "code",
   "execution_count": 84,
   "metadata": {},
   "outputs": [
    {
     "data": {
      "text/plain": [
       "['For', 'Geeks', 'Geeks', 'Hello']"
      ]
     },
     "execution_count": 84,
     "metadata": {},
     "output_type": "execute_result"
    }
   ],
   "source": [
    "a.sort()# assendeing order of set\n",
    "a"
   ]
  },
  {
   "cell_type": "code",
   "execution_count": 85,
   "metadata": {},
   "outputs": [
    {
     "name": "stdout",
     "output_type": "stream",
     "text": [
      "Empty List\n"
     ]
    }
   ],
   "source": [
    "# Python code to check for empty list \n",
    "# Explicit way \n",
    "def Enquiry(lis1): \n",
    "\tif len(lis1) == 0: \n",
    "\t\treturn 0\n",
    "\telse: \n",
    "\t\treturn 1\n",
    "\t\t\n",
    "# Driver Code \n",
    "lis1 = [] \n",
    "if Enquiry(lis1): \n",
    "\tprint (\"The list is not empty\") \n",
    "else: \n",
    "\tprint(\"Empty List\") \n"
   ]
  },
  {
   "cell_type": "code",
   "execution_count": 93,
   "metadata": {},
   "outputs": [
    {
     "data": {
      "text/plain": [
       "[[1, 2], [1, 2, 3], [2, 3, 4], [4, 5], [5, 6, 7]]"
      ]
     },
     "execution_count": 93,
     "metadata": {},
     "output_type": "execute_result"
    }
   ],
   "source": [
    "list=[[1,2,3],[1,2],[2,3,4],[4,5],[5,6,7]]\n",
    "list.sort()\n",
    "list\n"
   ]
  },
  {
   "cell_type": "code",
   "execution_count": 94,
   "metadata": {},
   "outputs": [
    {
     "data": {
      "text/plain": [
       "5"
      ]
     },
     "execution_count": 94,
     "metadata": {},
     "output_type": "execute_result"
    }
   ],
   "source": [
    "list=[1,2,3,'sam','maria']\n",
    "len(list)"
   ]
  },
  {
   "cell_type": "code",
   "execution_count": 95,
   "metadata": {},
   "outputs": [
    {
     "name": "stdout",
     "output_type": "stream",
     "text": [
      "(['A', 'B', 'C'], 3)\n"
     ]
    }
   ],
   "source": [
    "#Approch 1\n",
    "# Python3 program to Find maximum \n",
    "# length list in a nested list \n",
    "\n",
    "def FindMaxLength(lst): \n",
    "\tmaxList = max((x) for x in lst) \n",
    "\tmaxLength = max(len(x) for x in lst ) \n",
    "\n",
    "\treturn maxList, maxLength \n",
    "\t\n",
    "# Driver Code \n",
    "lst = [['A'], ['A', 'B'], ['A', 'B', 'C']] \n",
    "print(FindMaxLength(lst)) \n"
   ]
  },
  {
   "cell_type": "code",
   "execution_count": 102,
   "metadata": {},
   "outputs": [],
   "source": [
    "#Approach 1 : Using for loop (Naive)\n",
    "#This is a brute force method in which we iterate through each list item(list) and find the list with maximum length. Similarly,\n",
    "#we use the for loop to find length of each list and output the maximum length.\"\n",
    "# Python3 program to Find maximum \n",
    "# length list in a nested list \n",
    "\n",
    "# Approach #2 : Using map\n",
    "#In this method we use Python map function to iterate over the inner\n",
    "#lists to create a list of lengths, then get the maximum with max function."
   ]
  },
  {
   "cell_type": "code",
   "execution_count": 103,
   "metadata": {},
   "outputs": [
    {
     "name": "stdout",
     "output_type": "stream",
     "text": [
      "(['A', 'B', 'C'], 3)\n"
     ]
    }
   ],
   "source": [
    "# Approch 2\n",
    "# Python3 program to Find maximum \n",
    "# length list in a nested list \n",
    "\n",
    "def FindMaxLength(lst): \n",
    "\tmaxList = max(lst, key = len) \n",
    "\tmaxLength = max(map(len, lst)) \n",
    "\t\n",
    "\treturn maxList, maxLength \n",
    "\n",
    "# Driver Code \n",
    "lst = [['A'], ['A', 'B'], ['A', 'B', 'C'], ] \n",
    "print(FindMaxLength(lst)) \n"
   ]
  },
  {
   "cell_type": "code",
   "execution_count": 104,
   "metadata": {},
   "outputs": [
    {
     "name": "stdout",
     "output_type": "stream",
     "text": [
      "(['A', 'B', 'C'], 3)\n"
     ]
    }
   ],
   "source": [
    "# Approach #3 : Using lambda operator\n",
    "#One more method in Python to find the longest length list is the lambda operator. It is used for creating small, one-time and anonymous function objects in Python. Here we pass\n",
    "#a variable i as argument in the len(i) expression and find the maximum length.\n",
    "# Python3 program to Find maximum \n",
    "# length list in a nested list \n",
    "\n",
    "def FindMaxLength(lst): \n",
    "\tmaxList = max(lst, key = lambda i: len(i)) \n",
    "\tmaxLength = len(maxList) \n",
    "\t\n",
    "\treturn maxList, maxLength \n",
    "# Driver Code \n",
    "lst = [['A'], ['A', 'B'], ['A', 'B', 'C']] \n",
    "print(FindMaxLength(lst)) \n"
   ]
  },
  {
   "cell_type": "code",
   "execution_count": 110,
   "metadata": {},
   "outputs": [
    {
     "name": "stdout",
     "output_type": "stream",
     "text": [
      "2\n"
     ]
    }
   ],
   "source": [
    "# Python3 Program to count number of \n",
    "# list containing a certain element \n",
    "# in a list of lists \n",
    "\n",
    "def countList(lst, x): \n",
    "\tcount = 0\n",
    "\tfor i in range(len(lst)): \n",
    "\t\tif x in lst[i]: \n",
    "\t\t\tcount+= 1\n",
    "\t\t\n",
    "\treturn count \n",
    "\t\n",
    "# Driver Code \n",
    "lst = (['a'], ['a', 'c', 'b'], ['d']) \n",
    "x = 'a'\n",
    "print(countList(lst, x))\n"
   ]
  },
  {
   "cell_type": "code",
   "execution_count": 111,
   "metadata": {},
   "outputs": [
    {
     "name": "stdout",
     "output_type": "stream",
     "text": [
      "2\n"
     ]
    }
   ],
   "source": [
    "#Approach #2 : List comprehension (Alternative for naive)\n",
    "#A simple one-liner list comprehension can also do the job by simply \n",
    "#converting the above mentioned Naive approach into one-liner for loop.\n",
    "# Python3 Program to count number of \n",
    "# list containing a certain element \n",
    "# in a list of lists \n",
    "\n",
    "def countList(lst, x): \n",
    "\t\n",
    "\treturn sum(x in item for item in lst) \n",
    "\t\n",
    "# Driver Code \n",
    "lst = (['a'], ['a', 'c', 'b'], ['d']) \n",
    "x = 'a'\n",
    "print(countList(lst, x))\n"
   ]
  },
  {
   "cell_type": "code",
   "execution_count": 115,
   "metadata": {},
   "outputs": [
    {
     "name": "stdout",
     "output_type": "stream",
     "text": [
      "The original list :[1, 2, 3, 4, 5]\n",
      "Slicing the list :[3, 4, 5]\n"
     ]
    }
   ],
   "source": [
    "list_1=[1,2,3,4,5]\n",
    "print(\"The original list :\"+ str(list_1))\n",
    "k=2\n",
    "res=list_1[k:None] # this line means k=2 index will start and rest of the part same\n",
    "print(\"Slicing the list :\" + str(res))\n"
   ]
  },
  {
   "cell_type": "code",
   "execution_count": 1,
   "metadata": {},
   "outputs": [
    {
     "name": "stdout",
     "output_type": "stream",
     "text": [
      "The original list : [4, 1, 3, 2, 6, 5]\n",
      "The 3 sum element list is : [(4, 3, 2), (1, 3, 5), (1, 2, 6)]\n"
     ]
    }
   ],
   "source": [
    "#PYTHON THREE ELEMENT SUM\n",
    "#Approch 1 Using nested loop\n",
    "\n",
    "# Python3 code to demonstrate \n",
    "# 3 element sum \n",
    "# using nested loops \n",
    "\n",
    "# initializing list \n",
    "test_list = [4, 1, 3, 2, 6, 5] \n",
    "\n",
    "# initializing sum \n",
    "sum = 9\n",
    "\n",
    "# printing original list \n",
    "print(\"The original list : \" + str(test_list)) \n",
    "\n",
    "# using nested loops \n",
    "# 3 element sum \n",
    "res = [] \n",
    "for i in range(0, len(test_list)-2): \n",
    "\tfor j in range(i + 1, len(test_list)-1): \n",
    "\t\tfor k in range(j + 1, len(test_list)): \n",
    "\t\t\tif test_list[i] + test_list[j] + test_list[k] == sum: \n",
    "\t\t\t\ttemp = [] \n",
    "\t\t\t\ttemp.append(test_list[i]) \n",
    "\t\t\t\ttemp.append(test_list[j]) \n",
    "\t\t\t\ttemp.append(test_list[k]) \n",
    "\t\t\t\tres.append(tuple(temp)) \n",
    "\n",
    "# print result \n",
    "print(\"The 3 sum element list is : \" + str(res)) \n"
   ]
  },
  {
   "cell_type": "code",
   "execution_count": 4,
   "metadata": {},
   "outputs": [
    {
     "name": "stderr",
     "output_type": "stream",
     "text": [
      "Python 3.6.5 :: Anaconda, Inc.\n"
     ]
    }
   ],
   "source": [
    "! python -V"
   ]
  },
  {
   "cell_type": "code",
   "execution_count": 5,
   "metadata": {},
   "outputs": [
    {
     "name": "stdout",
     "output_type": "stream",
     "text": [
      "[1, 2, 3, 4]\n",
      "(1, 2, 3, 4)\n"
     ]
    }
   ],
   "source": [
    "list_num = [1,2,3,4]\n",
    "tup_num = (1,2,3,4)\n",
    "print(list_num)\n",
    "print(tup_num)"
   ]
  },
  {
   "cell_type": "markdown",
   "metadata": {},
   "source": [
    "# TUPLES PROBLEMS"
   ]
  },
  {
   "cell_type": "code",
   "execution_count": 6,
   "metadata": {},
   "outputs": [],
   "source": [
    "def f(r):\n",
    "    \"\"\" Return (circumference, area) of a circle of radius r \"\"\"\n",
    "    c = 2 * math.pi * r\n",
    "    a = math.pi * r * r\n",
    "    return (c, a)"
   ]
  },
  {
   "cell_type": "code",
   "execution_count": 15,
   "metadata": {},
   "outputs": [
    {
     "name": "stdout",
     "output_type": "stream",
     "text": [
      "apple\n",
      "apple\n",
      "grapes\n",
      "grapes\n",
      "banana\n",
      "banana\n"
     ]
    }
   ],
   "source": [
    "a=[\"apple\",\"grapes\",\"banana\"]\n",
    "for element in a:\n",
    "    print(element)\n",
    "    print(element)\n"
   ]
  },
  {
   "cell_type": "code",
   "execution_count": 27,
   "metadata": {},
   "outputs": [
    {
     "name": "stdout",
     "output_type": "stream",
     "text": [
      "10\n",
      "20\n",
      "30\n"
     ]
    }
   ],
   "source": [
    "b=[10,20,30]\n",
    "for e in b:#inside b  list is declare\n",
    "    print(e)"
   ]
  },
  {
   "cell_type": "code",
   "execution_count": 24,
   "metadata": {},
   "outputs": [
    {
     "name": "stdout",
     "output_type": "stream",
     "text": [
      "60\n"
     ]
    }
   ],
   "source": [
    "b=[10,20,30]\n",
    "total=0\n",
    "for e in b:\n",
    "    total=total+e\n",
    "print(total)"
   ]
  },
  {
   "cell_type": "code",
   "execution_count": 28,
   "metadata": {},
   "outputs": [
    {
     "name": "stdout",
     "output_type": "stream",
     "text": [
      "[1, 2, 3, 4]\n"
     ]
    }
   ],
   "source": [
    "c=list(range(1,5))# range1 to 4 value print \n",
    "print(c)"
   ]
  },
  {
   "cell_type": "code",
   "execution_count": 36,
   "metadata": {},
   "outputs": [
    {
     "name": "stdout",
     "output_type": "stream",
     "text": [
      "1\n",
      "2\n",
      "3\n",
      "4\n",
      "5\n"
     ]
    }
   ],
   "source": [
    "for i in range(1,6):\n",
    "    print(i)"
   ]
  },
  {
   "cell_type": "code",
   "execution_count": 40,
   "metadata": {},
   "outputs": [
    {
     "name": "stdout",
     "output_type": "stream",
     "text": [
      "10\n"
     ]
    }
   ],
   "source": [
    "total =0\n",
    "for i in range(1,5):\n",
    "    total+=i\n",
    "print(total)"
   ]
  },
  {
   "cell_type": "code",
   "execution_count": 41,
   "metadata": {},
   "outputs": [
    {
     "name": "stdout",
     "output_type": "stream",
     "text": [
      "[1, 2, 3, 4, 5, 6]\n"
     ]
    }
   ],
   "source": [
    "print(list(range(1,7)))"
   ]
  },
  {
   "cell_type": "code",
   "execution_count": 10,
   "metadata": {},
   "outputs": [
    {
     "data": {
      "text/plain": [
       "[1, 2, 3]"
      ]
     },
     "execution_count": 10,
     "metadata": {},
     "output_type": "execute_result"
    }
   ],
   "source": [
    "a={'k1':1,'k2': [1,2,3],'k3':[2,3,4]}\n",
    "a['k2']\n",
    "   "
   ]
  },
  {
   "cell_type": "code",
   "execution_count": 7,
   "metadata": {},
   "outputs": [
    {
     "data": {
      "text/plain": [
       "True"
      ]
     },
     "execution_count": 7,
     "metadata": {},
     "output_type": "execute_result"
    }
   ],
   "source": [
    "2>1"
   ]
  },
  {
   "cell_type": "code",
   "execution_count": 9,
   "metadata": {},
   "outputs": [
    {
     "data": {
      "text/plain": [
       "True"
      ]
     },
     "execution_count": 9,
     "metadata": {},
     "output_type": "execute_result"
    }
   ],
   "source": [
    "2>=1"
   ]
  },
  {
   "cell_type": "code",
   "execution_count": 7,
   "metadata": {},
   "outputs": [
    {
     "name": "stdout",
     "output_type": "stream",
     "text": [
      "Even no\n",
      "Even no\n",
      "Even no\n",
      "Even no\n",
      "Even no\n"
     ]
    }
   ],
   "source": [
    "for i in range(0,10,2):\n",
    "    if i%2==0:\n",
    "        print(\"Even no\")\n",
    "    else:\n",
    "        print(\"Odd no\")"
   ]
  },
  {
   "cell_type": "code",
   "execution_count": 6,
   "metadata": {},
   "outputs": [
    {
     "name": "stdout",
     "output_type": "stream",
     "text": [
      "Even no\n"
     ]
    }
   ],
   "source": [
    "for i in range(0,10,2):# print 0 to 10 number even number\n",
    "    if i%2==0:\n",
    "        print(\"Even no\")\n",
    "        break\n",
    "    else:\n",
    "        print(\"Odd no\")\n",
    "        break"
   ]
  },
  {
   "cell_type": "code",
   "execution_count": 14,
   "metadata": {},
   "outputs": [
    {
     "name": "stdout",
     "output_type": "stream",
     "text": [
      "[3, 6, 9, 12, 15, 18, 21, 24, 27, 30, 33, 36, 39, 42, 45, 48]\n"
     ]
    }
   ],
   "source": [
    "list=[i for i in range(1,50) if i%3==0]\n",
    "print(list)"
   ]
  },
  {
   "cell_type": "code",
   "execution_count": 15,
   "metadata": {},
   "outputs": [],
   "source": [
    "#fizz is print 3 time and buzz print 5 time and both are multiples 3 and 5 print fizzbuzz up"
   ]
  },
  {
   "cell_type": "code",
   "execution_count": 30,
   "metadata": {},
   "outputs": [
    {
     "name": "stdout",
     "output_type": "stream",
     "text": [
      "Buzz\n"
     ]
    }
   ],
   "source": [
    "for i in range(5,101):\n",
    "    if (i%3==0):#this is indentation start this point\n",
    "        print(\"Fizz\")#this is identation start this  \n",
    "        \n",
    "    elif (i%5==0):\n",
    "        print(\"Buzz\")\n",
    "        \n",
    "    elif (i%15==0):\n",
    "        print(\"fizzbuzz\")\n",
    "        \n",
    "    else:\n",
    "        print(i)\n",
    "        \n",
    "    break#this is outer side loop and identation  \n",
    "        \n",
    "        \n",
    "        \n",
    "    "
   ]
  },
  {
   "cell_type": "code",
   "execution_count": 53,
   "metadata": {},
   "outputs": [
    {
     "name": "stdout",
     "output_type": "stream",
     "text": [
      "The sum= 12\n",
      "Welcome to python 13 :\n",
      "Print float number 3.00\n"
     ]
    }
   ],
   "source": [
    "print(\"The sum= %d\" %(12))#String formatting\n",
    "print(\"Welcome to python %s :\" %(13))\n",
    "print(\"Print float number %.2f\" %(3))"
   ]
  },
  {
   "cell_type": "markdown",
   "metadata": {},
   "source": [
    "# Capitalize"
   ]
  },
  {
   "cell_type": "code",
   "execution_count": 2,
   "metadata": {},
   "outputs": [
    {
     "name": "stdout",
     "output_type": "stream",
     "text": [
      "Learning pyhton is fun!\n"
     ]
    }
   ],
   "source": [
    "#Demo of capitalize\n",
    "s='learning pyhton is fun!'#Returns a copy the string  only it's first character\n",
    " \n",
    "print(s.capitalize())"
   ]
  },
  {
   "cell_type": "code",
   "execution_count": 3,
   "metadata": {},
   "outputs": [],
   "source": [
    "#Title : Returns a copy of the string in which first character of all the words are capitalized."
   ]
  },
  {
   "cell_type": "markdown",
   "metadata": {},
   "source": [
    "# Max(str)"
   ]
  },
  {
   "cell_type": "code",
   "execution_count": 8,
   "metadata": {},
   "outputs": [
    {
     "name": "stdout",
     "output_type": "stream",
     "text": [
      "Maximum character is : y\n"
     ]
    }
   ],
   "source": [
    "#Demo of max(str)\n",
    "s='learning python is fun'\n",
    "print('Maximum character is :',max(s))"
   ]
  },
  {
   "cell_type": "code",
   "execution_count": 9,
   "metadata": {},
   "outputs": [
    {
     "name": "stdout",
     "output_type": "stream",
     "text": [
      "7\n"
     ]
    }
   ],
   "source": [
    "a=2,3,4,7\n",
    "print(max(a))"
   ]
  },
  {
   "cell_type": "code",
   "execution_count": 10,
   "metadata": {},
   "outputs": [
    {
     "name": "stdout",
     "output_type": "stream",
     "text": [
      "2\n"
     ]
    }
   ],
   "source": [
    "print(min(a))"
   ]
  },
  {
   "cell_type": "markdown",
   "metadata": {},
   "source": [
    "# Replace(old,new [max])"
   ]
  },
  {
   "cell_type": "code",
   "execution_count": 12,
   "metadata": {},
   "outputs": [
    {
     "name": "stdout",
     "output_type": "stream",
     "text": [
      "Today is very hot \n"
     ]
    }
   ],
   "source": [
    "s='Today are very hot '\n",
    "print(s.replace('are','is'))"
   ]
  },
  {
   "cell_type": "code",
   "execution_count": 13,
   "metadata": {},
   "outputs": [
    {
     "data": {
      "text/plain": [
       "'hello'"
      ]
     },
     "execution_count": 13,
     "metadata": {},
     "output_type": "execute_result"
    }
   ],
   "source": [
    "a='HELLO'\n",
    "a.lower()"
   ]
  },
  {
   "cell_type": "code",
   "execution_count": 14,
   "metadata": {},
   "outputs": [
    {
     "data": {
      "text/plain": [
       "'HELLO'"
      ]
     },
     "execution_count": 14,
     "metadata": {},
     "output_type": "execute_result"
    }
   ],
   "source": [
    "a.upper()"
   ]
  },
  {
   "cell_type": "code",
   "execution_count": 15,
   "metadata": {},
   "outputs": [
    {
     "data": {
      "text/plain": [
       "False"
      ]
     },
     "execution_count": 15,
     "metadata": {},
     "output_type": "execute_result"
    }
   ],
   "source": [
    "a.islower()"
   ]
  },
  {
   "cell_type": "code",
   "execution_count": 16,
   "metadata": {},
   "outputs": [
    {
     "data": {
      "text/plain": [
       "True"
      ]
     },
     "execution_count": 16,
     "metadata": {},
     "output_type": "execute_result"
    }
   ],
   "source": [
    "a='hello'\n",
    "a.islower()#Because return value lower case so return value true"
   ]
  },
  {
   "cell_type": "code",
   "execution_count": 18,
   "metadata": {},
   "outputs": [
    {
     "data": {
      "text/plain": [
       "False"
      ]
     },
     "execution_count": 18,
     "metadata": {},
     "output_type": "execute_result"
    }
   ],
   "source": [
    "a.isupper()#Because string is lower case not upper case form"
   ]
  },
  {
   "cell_type": "code",
   "execution_count": 19,
   "metadata": {},
   "outputs": [
    {
     "data": {
      "text/plain": [
       "False"
      ]
     },
     "execution_count": 19,
     "metadata": {},
     "output_type": "execute_result"
    }
   ],
   "source": [
    "a=\"hello1234\"\n",
    "a.isdigit()"
   ]
  },
  {
   "cell_type": "code",
   "execution_count": 20,
   "metadata": {},
   "outputs": [
    {
     "data": {
      "text/plain": [
       "True"
      ]
     },
     "execution_count": 20,
     "metadata": {},
     "output_type": "execute_result"
    }
   ],
   "source": [
    "a=\"1234\"\n",
    "a.isdigit()#Returns the only digit not srtring return value"
   ]
  },
  {
   "cell_type": "markdown",
   "metadata": {},
   "source": [
    "# isnumeric()"
   ]
  },
  {
   "cell_type": "code",
   "execution_count": 21,
   "metadata": {},
   "outputs": [
    {
     "data": {
      "text/plain": [
       "False"
      ]
     },
     "execution_count": 21,
     "metadata": {},
     "output_type": "execute_result"
    }
   ],
   "source": [
    "a=u\"hello world\"\n",
    "a.isnumeric()"
   ]
  },
  {
   "cell_type": "code",
   "execution_count": 22,
   "metadata": {},
   "outputs": [
    {
     "data": {
      "text/plain": [
       "True"
      ]
     },
     "execution_count": 22,
     "metadata": {},
     "output_type": "execute_result"
    }
   ],
   "source": [
    "a=u\"1234\"\n",
    "a.isnumeric()#is numeric basically return true if a unicode string contains only numeric characters and other wise false"
   ]
  },
  {
   "cell_type": "markdown",
   "metadata": {},
   "source": [
    "# isspace()"
   ]
  },
  {
   "cell_type": "code",
   "execution_count": 23,
   "metadata": {},
   "outputs": [
    {
     "data": {
      "text/plain": [
       "False"
      ]
     },
     "execution_count": 23,
     "metadata": {},
     "output_type": "execute_result"
    }
   ],
   "source": [
    "a=\"hello world\"\n",
    "a.isspace()"
   ]
  },
  {
   "cell_type": "code",
   "execution_count": 24,
   "metadata": {},
   "outputs": [
    {
     "data": {
      "text/plain": [
       "True"
      ]
     },
     "execution_count": 24,
     "metadata": {},
     "output_type": "execute_result"
    }
   ],
   "source": [
    "a=\"  \"\n",
    "a.isspace()#space string value print true and without whitespace value false"
   ]
  },
  {
   "cell_type": "markdown",
   "metadata": {},
   "source": [
    "# istitle()"
   ]
  },
  {
   "cell_type": "code",
   "execution_count": 27,
   "metadata": {},
   "outputs": [
    {
     "data": {
      "text/plain": [
       "True"
      ]
     },
     "execution_count": 27,
     "metadata": {},
     "output_type": "execute_result"
    }
   ],
   "source": [
    "a=\"Python Programming\"#When sentence begins uppercase then value true otherwise false\n",
    "a.istitle()"
   ]
  },
  {
   "cell_type": "code",
   "execution_count": 28,
   "metadata": {},
   "outputs": [
    {
     "data": {
      "text/plain": [
       "False"
      ]
     },
     "execution_count": 28,
     "metadata": {},
     "output_type": "execute_result"
    }
   ],
   "source": [
    "a=\"python programming\"\n",
    "a.istitle()"
   ]
  },
  {
   "cell_type": "markdown",
   "metadata": {},
   "source": [
    "# expandtabs(tabsize=8)"
   ]
  },
  {
   "cell_type": "code",
   "execution_count": 29,
   "metadata": {},
   "outputs": [
    {
     "data": {
      "text/plain": [
       "'     python  langauge is a scripting langauage'"
      ]
     },
     "execution_count": 29,
     "metadata": {},
     "output_type": "execute_result"
    }
   ],
   "source": [
    "a=\"\\tpython  langauge is a scripting langauage\"\n",
    "a.expandtabs(5)"
   ]
  },
  {
   "cell_type": "code",
   "execution_count": 31,
   "metadata": {},
   "outputs": [
    {
     "name": "stdout",
     "output_type": "stream",
     "text": [
      "\tpython  langauge is a scripting langauage\n"
     ]
    }
   ],
   "source": [
    "print(a)"
   ]
  },
  {
   "cell_type": "code",
   "execution_count": 32,
   "metadata": {},
   "outputs": [
    {
     "data": {
      "text/plain": [
       "'          python  langauge is a scripting langauage'"
      ]
     },
     "execution_count": 32,
     "metadata": {},
     "output_type": "execute_result"
    }
   ],
   "source": [
    "a.expandtabs(10)"
   ]
  },
  {
   "cell_type": "markdown",
   "metadata": {},
   "source": [
    "# join(seq)"
   ]
  },
  {
   "cell_type": "code",
   "execution_count": 34,
   "metadata": {},
   "outputs": [
    {
     "name": "stdout",
     "output_type": "stream",
     "text": [
      "python-programming\n"
     ]
    }
   ],
   "source": [
    "s=\"-\"\n",
    "seq=(\"python\",\"programming\")\n",
    "print(s.join(seq))#join(seq) means joined by seperator"
   ]
  },
  {
   "cell_type": "code",
   "execution_count": 39,
   "metadata": {},
   "outputs": [
    {
     "name": "stdout",
     "output_type": "stream",
     "text": [
      "python**programming\n"
     ]
    }
   ],
   "source": [
    "s=\"**\"\n",
    "seq=(\"python\",\"programming\")\n",
    "print(s.join(seq))"
   ]
  },
  {
   "cell_type": "markdown",
   "metadata": {},
   "source": [
    "# split() "
   ]
  },
  {
   "cell_type": "code",
   "execution_count": 40,
   "metadata": {},
   "outputs": [
    {
     "name": "stdout",
     "output_type": "stream",
     "text": [
      "['python', 'programming', 'is', 'fun']\n"
     ]
    }
   ],
   "source": [
    "s=\"python programming is fun\"\n",
    "print(s.split())#split return the list"
   ]
  },
  {
   "cell_type": "code",
   "execution_count": 45,
   "metadata": {},
   "outputs": [
    {
     "name": "stdout",
     "output_type": "stream",
     "text": [
      "['python ', 'programming', 'is fun']\n"
     ]
    }
   ],
   "source": [
    "s=\"python *programming*is fun\"\n",
    "print(s.split('*'))"
   ]
  },
  {
   "cell_type": "code",
   "execution_count": 49,
   "metadata": {},
   "outputs": [
    {
     "name": "stdout",
     "output_type": "stream",
     "text": [
      "['python ', 'programming', 'is* fun']\n"
     ]
    }
   ],
   "source": [
    "s=\"python *programming*is* fun\"\n",
    "print(s.split('*',2))"
   ]
  },
  {
   "cell_type": "markdown",
   "metadata": {},
   "source": [
    "# splitlines()  "
   ]
  },
  {
   "cell_type": "code",
   "execution_count": 53,
   "metadata": {},
   "outputs": [
    {
     "name": "stdout",
     "output_type": "stream",
     "text": [
      "['python', ' programming', ' is fun']\n"
     ]
    }
   ],
   "source": [
    "s=\"python\\n programming\\n is fun\"\n",
    "print(s.splitlines())"
   ]
  },
  {
   "cell_type": "code",
   "execution_count": 54,
   "metadata": {},
   "outputs": [
    {
     "name": "stdout",
     "output_type": "stream",
     "text": [
      "['python\\n', ' programming\\n', ' is fun']\n"
     ]
    }
   ],
   "source": [
    "print(s.splitlines(2))"
   ]
  },
  {
   "cell_type": "markdown",
   "metadata": {},
   "source": [
    "# List "
   ]
  },
  {
   "cell_type": "code",
   "execution_count": 55,
   "metadata": {},
   "outputs": [
    {
     "data": {
      "text/plain": [
       "5"
      ]
     },
     "execution_count": 55,
     "metadata": {},
     "output_type": "execute_result"
    }
   ],
   "source": [
    "a=[1,2,3,4,5]\n",
    "len(a)"
   ]
  },
  {
   "cell_type": "code",
   "execution_count": 57,
   "metadata": {},
   "outputs": [
    {
     "data": {
      "text/plain": [
       "[1, 2, 3, 4, 5]"
      ]
     },
     "execution_count": 57,
     "metadata": {},
     "output_type": "execute_result"
    }
   ],
   "source": [
    "list(a)"
   ]
  },
  {
   "cell_type": "code",
   "execution_count": 58,
   "metadata": {},
   "outputs": [
    {
     "name": "stdout",
     "output_type": "stream",
     "text": [
      "4\n"
     ]
    }
   ],
   "source": [
    "name=['hong','kong','kim','jon']\n",
    "print(len(name))"
   ]
  },
  {
   "cell_type": "code",
   "execution_count": 59,
   "metadata": {},
   "outputs": [
    {
     "data": {
      "text/plain": [
       "['hong', 'kong', 'kim', 'jon']"
      ]
     },
     "execution_count": 59,
     "metadata": {},
     "output_type": "execute_result"
    }
   ],
   "source": [
    "list(name)"
   ]
  },
  {
   "cell_type": "code",
   "execution_count": 65,
   "metadata": {},
   "outputs": [
    {
     "name": "stdout",
     "output_type": "stream",
     "text": [
      "\n",
      "Maximum list1 value: [1, 2, 3, 5] 5\n",
      "\n",
      "Minimum list2 value : [2, 5, 6, 7] 2\n"
     ]
    }
   ],
   "source": [
    "list1=[1,2,3,5]\n",
    "list2=[2,5,6,7]\n",
    "print(\"\\nMaximum list1 value:\",list1,max(list1))\n",
    "print(\"\\nMinimum list2 value :\",list2,min(list2))"
   ]
  },
  {
   "cell_type": "code",
   "execution_count": 66,
   "metadata": {},
   "outputs": [
    {
     "data": {
      "text/plain": [
       "5"
      ]
     },
     "execution_count": 66,
     "metadata": {},
     "output_type": "execute_result"
    }
   ],
   "source": [
    "max(list1)"
   ]
  },
  {
   "cell_type": "code",
   "execution_count": 67,
   "metadata": {},
   "outputs": [
    {
     "data": {
      "text/plain": [
       "2"
      ]
     },
     "execution_count": 67,
     "metadata": {},
     "output_type": "execute_result"
    }
   ],
   "source": [
    "min(list2)"
   ]
  },
  {
   "cell_type": "markdown",
   "metadata": {},
   "source": [
    "# list(seq)"
   ]
  },
  {
   "cell_type": "code",
   "execution_count": 69,
   "metadata": {},
   "outputs": [
    {
     "name": "stdout",
     "output_type": "stream",
     "text": [
      "['john', 'tom', 'marry']\n"
     ]
    }
   ],
   "source": [
    "tuple=(\"john\",\"tom\",\"marry\")#list seq returns a tuple into a list\n",
    "print(list(tuple))"
   ]
  },
  {
   "cell_type": "code",
   "execution_count": 70,
   "metadata": {},
   "outputs": [],
   "source": [
    "a=[1,2,3,4,5,6]\n",
    "a.append(7)"
   ]
  },
  {
   "cell_type": "code",
   "execution_count": 71,
   "metadata": {},
   "outputs": [
    {
     "data": {
      "text/plain": [
       "[1, 2, 3, 4, 5, 6, 7]"
      ]
     },
     "execution_count": 71,
     "metadata": {},
     "output_type": "execute_result"
    }
   ],
   "source": [
    "a"
   ]
  },
  {
   "cell_type": "code",
   "execution_count": 74,
   "metadata": {},
   "outputs": [
    {
     "data": {
      "text/plain": [
       "7"
      ]
     },
     "execution_count": 74,
     "metadata": {},
     "output_type": "execute_result"
    }
   ],
   "source": [
    "a.pop()"
   ]
  },
  {
   "cell_type": "code",
   "execution_count": 75,
   "metadata": {},
   "outputs": [
    {
     "data": {
      "text/plain": [
       "[1, 2, 3, 4, 5, 6]"
      ]
     },
     "execution_count": 75,
     "metadata": {},
     "output_type": "execute_result"
    }
   ],
   "source": [
    "a"
   ]
  },
  {
   "cell_type": "code",
   "execution_count": 76,
   "metadata": {},
   "outputs": [
    {
     "data": {
      "text/plain": [
       "6"
      ]
     },
     "execution_count": 76,
     "metadata": {},
     "output_type": "execute_result"
    }
   ],
   "source": [
    "a.pop()"
   ]
  },
  {
   "cell_type": "code",
   "execution_count": 77,
   "metadata": {},
   "outputs": [
    {
     "data": {
      "text/plain": [
       "[1, 2, 3, 4, 5]"
      ]
     },
     "execution_count": 77,
     "metadata": {},
     "output_type": "execute_result"
    }
   ],
   "source": [
    "a"
   ]
  },
  {
   "cell_type": "code",
   "execution_count": 83,
   "metadata": {},
   "outputs": [
    {
     "data": {
      "text/plain": [
       "['cs', 'c', 'ds', 'algo']"
      ]
     },
     "execution_count": 83,
     "metadata": {},
     "output_type": "execute_result"
    }
   ],
   "source": [
    "list=['cs','c','ds','algo','dbms']\n",
    "(list.remove('dbms'))\n",
    "list\n"
   ]
  },
  {
   "cell_type": "markdown",
   "metadata": {},
   "source": [
    "# List index(ob)"
   ]
  },
  {
   "cell_type": "code",
   "execution_count": 85,
   "metadata": {},
   "outputs": [
    {
     "data": {
      "text/plain": [
       "1"
      ]
     },
     "execution_count": 85,
     "metadata": {},
     "output_type": "execute_result"
    }
   ],
   "source": [
    "list=['tom','sam','john']\n",
    "list.index('sam')"
   ]
  },
  {
   "cell_type": "code",
   "execution_count": 86,
   "metadata": {},
   "outputs": [
    {
     "data": {
      "text/plain": [
       "2"
      ]
     },
     "execution_count": 86,
     "metadata": {},
     "output_type": "execute_result"
    }
   ],
   "source": [
    "list.index('john')"
   ]
  },
  {
   "cell_type": "code",
   "execution_count": 87,
   "metadata": {},
   "outputs": [
    {
     "data": {
      "text/plain": [
       "0"
      ]
     },
     "execution_count": 87,
     "metadata": {},
     "output_type": "execute_result"
    }
   ],
   "source": [
    "list.index('tom')"
   ]
  },
  {
   "cell_type": "markdown",
   "metadata": {},
   "source": [
    "# list.sort()"
   ]
  },
  {
   "cell_type": "code",
   "execution_count": 88,
   "metadata": {},
   "outputs": [
    {
     "name": "stdout",
     "output_type": "stream",
     "text": [
      "List before sorting : [3, 4, 5, 2, 1]\n"
     ]
    }
   ],
   "source": [
    "list=[3,4,5,2,1]\n",
    "print(\"List before sorting :\",list)\n",
    "list.sort()"
   ]
  },
  {
   "cell_type": "code",
   "execution_count": 92,
   "metadata": {},
   "outputs": [
    {
     "name": "stdout",
     "output_type": "stream",
     "text": [
      "List after sorting : [1, 2, 3, 4, 5]\n"
     ]
    }
   ],
   "source": [
    "print(\"List after sorting :\",list)\n",
    "list.sort()"
   ]
  },
  {
   "cell_type": "code",
   "execution_count": 93,
   "metadata": {},
   "outputs": [
    {
     "name": "stdout",
     "output_type": "stream",
     "text": [
      "List after sorting in assending : [1, 2, 3, 4, 5]\n"
     ]
    }
   ],
   "source": [
    "print(\"List after sorting in assending :\",list)\n",
    "list.sort()"
   ]
  },
  {
   "cell_type": "markdown",
   "metadata": {},
   "source": [
    "# list .clear"
   ]
  },
  {
   "cell_type": "markdown",
   "metadata": {},
   "source": [
    "# Stack and Queue operation\n",
    "#clear :Remove all items inside list"
   ]
  },
  {
   "cell_type": "code",
   "execution_count": 98,
   "metadata": {},
   "outputs": [
    {
     "name": "stdout",
     "output_type": "stream",
     "text": [
      "Stack after appending: [10, 20, 30, 40, 50, 60]\n",
      "Stack after poping : [10, 20, 30, 40, 50]\n"
     ]
    }
   ],
   "source": [
    "stack=[10,20,30,40,50]#Stack is data structure using operation lifo means the item push and pop\n",
    "stack.append(60)\n",
    "print(\"Stack after appending:\",stack)\n",
    "stack.pop()\n",
    "print(\"Stack after poping :\",stack)"
   ]
  },
  {
   "cell_type": "code",
   "execution_count": 115,
   "metadata": {},
   "outputs": [
    {
     "name": "stdout",
     "output_type": "stream",
     "text": [
      "deque(['apple', 'orange', 'grapes'])\n"
     ]
    }
   ],
   "source": [
    "from collections import deque\n",
    "queue=deque(['apple','orange','grapes'])\n",
    "print(queue)"
   ]
  },
  {
   "cell_type": "code",
   "execution_count": 116,
   "metadata": {},
   "outputs": [
    {
     "data": {
      "text/plain": [
       "'apple'"
      ]
     },
     "execution_count": 116,
     "metadata": {},
     "output_type": "execute_result"
    }
   ],
   "source": [
    "queue.popleft()#Queue means fifo principle on work like  first push  and first pop items\n"
   ]
  },
  {
   "cell_type": "code",
   "execution_count": 117,
   "metadata": {},
   "outputs": [
    {
     "data": {
      "text/plain": [
       "deque(['orange', 'grapes'])"
      ]
     },
     "execution_count": 117,
     "metadata": {},
     "output_type": "execute_result"
    }
   ],
   "source": [
    "queue# remaing  items inside list"
   ]
  },
  {
   "cell_type": "code",
   "execution_count": 118,
   "metadata": {},
   "outputs": [
    {
     "data": {
      "text/plain": [
       "'orange'"
      ]
     },
     "execution_count": 118,
     "metadata": {},
     "output_type": "execute_result"
    }
   ],
   "source": [
    "queue.popleft()# 2nd item pop"
   ]
  },
  {
   "cell_type": "code",
   "execution_count": 119,
   "metadata": {},
   "outputs": [
    {
     "data": {
      "text/plain": [
       "deque(['grapes'])"
      ]
     },
     "execution_count": 119,
     "metadata": {},
     "output_type": "execute_result"
    }
   ],
   "source": [
    "queue# remaining item"
   ]
  },
  {
   "cell_type": "markdown",
   "metadata": {},
   "source": [
    "# tuple"
   ]
  },
  {
   "cell_type": "code",
   "execution_count": 120,
   "metadata": {},
   "outputs": [
    {
     "data": {
      "text/plain": [
       "([1, 2, 3], ['apple', 'orange', 'fig'])"
      ]
     },
     "execution_count": 120,
     "metadata": {},
     "output_type": "execute_result"
    }
   ],
   "source": [
    "t=([1,2,3],['apple','orange','fig'])\n",
    "t\n",
    "   "
   ]
  },
  {
   "cell_type": "code",
   "execution_count": 121,
   "metadata": {},
   "outputs": [
    {
     "data": {
      "text/plain": [
       "('apple', 1, 100)"
      ]
     },
     "execution_count": 121,
     "metadata": {},
     "output_type": "execute_result"
    }
   ],
   "source": [
    "t=\"apple\",1,100\n",
    "t"
   ]
  },
  {
   "cell_type": "markdown",
   "metadata": {},
   "source": [
    "# set"
   ]
  },
  {
   "cell_type": "code",
   "execution_count": 3,
   "metadata": {},
   "outputs": [
    {
     "name": "stdout",
     "output_type": "stream",
     "text": [
      "{1, 2, 3, 4}\n",
      "{1, 2, 3}\n",
      "{1, 2, 3, 4, 'tom', 'apple'}\n"
     ]
    }
   ],
   "source": [
    "s1={1,2,3,4}\n",
    "print(s1)\n",
    "s2={1,2,3,2,1,2}\n",
    "print(s2)\n",
    "s3={1,2,4,'apple','tom',3}\n",
    "print(s3)\n",
    "s4={1,2,[3,4]}#sets cannot have mutable items\n",
    "#print s4 # hence not permitted\n",
    "s5={[1,2,3,4,5]}#usin\n"
   ]
  },
  {
   "cell_type": "code",
   "execution_count": 1,
   "metadata": {},
   "outputs": [
    {
     "data": {
      "text/plain": [
       "4"
      ]
     },
     "execution_count": 1,
     "metadata": {},
     "output_type": "execute_result"
    }
   ],
   "source": [
    "set={'john','harry','sam','tom'}\n",
    "len(set)"
   ]
  },
  {
   "cell_type": "code",
   "execution_count": 2,
   "metadata": {},
   "outputs": [
    {
     "data": {
      "text/plain": [
       "5"
      ]
     },
     "execution_count": 2,
     "metadata": {},
     "output_type": "execute_result"
    }
   ],
   "source": [
    "a=[0,1,2,4,5]\n",
    "len(a)"
   ]
  },
  {
   "cell_type": "markdown",
   "metadata": {},
   "source": [
    "# Enumerate(set)"
   ]
  },
  {
   "cell_type": "code",
   "execution_count": 3,
   "metadata": {},
   "outputs": [
    {
     "name": "stdout",
     "output_type": "stream",
     "text": [
      "enumerate(set): <enumerate object at 0x0000028DEBFDD168>\n"
     ]
    }
   ],
   "source": [
    "# Returns an enumerate object it contains the index and value of all the items of set as a pair\n",
    "set={213,100,289,40,23,1,1000}\n",
    "print(\"enumerate(set):\",enumerate(set))\n"
   ]
  },
  {
   "cell_type": "markdown",
   "metadata": {},
   "source": [
    "# any(set)"
   ]
  },
  {
   "cell_type": "code",
   "execution_count": 28,
   "metadata": {},
   "outputs": [
    {
     "name": "stdout",
     "output_type": "stream",
     "text": [
      "any(set): False\n",
      "any(set): True\n"
     ]
    }
   ],
   "source": [
    "#returns true ,if the set contains at least one item ,false other wise.\n",
    "set1=()\n",
    "set2={1,2,3,4}\n",
    "print(\"any(set):\",any(set1))\n",
    "print(\"any(set):\",any(set2))"
   ]
  },
  {
   "cell_type": "code",
   "execution_count": 29,
   "metadata": {},
   "outputs": [
    {
     "ename": "TypeError",
     "evalue": "'list' object is not callable",
     "output_type": "error",
     "traceback": [
      "\u001b[1;31m---------------------------------------------------------------------------\u001b[0m",
      "\u001b[1;31mTypeError\u001b[0m                                 Traceback (most recent call last)",
      "\u001b[1;32m<ipython-input-29-3aaffdf71376>\u001b[0m in \u001b[0;36m<module>\u001b[1;34m()\u001b[0m\n\u001b[0;32m      1\u001b[0m \u001b[1;31m#returns true ,if the set contains at least one item ,false other wise.\u001b[0m\u001b[1;33m\u001b[0m\u001b[1;33m\u001b[0m\u001b[0m\n\u001b[1;32m----> 2\u001b[1;33m \u001b[0mset1\u001b[0m\u001b[1;33m=\u001b[0m\u001b[0mset\u001b[0m\u001b[1;33m(\u001b[0m\u001b[1;33m)\u001b[0m\u001b[1;33m\u001b[0m\u001b[0m\n\u001b[0m\u001b[0;32m      3\u001b[0m \u001b[0mset2\u001b[0m\u001b[1;33m=\u001b[0m\u001b[1;33m{\u001b[0m\u001b[1;36m1\u001b[0m\u001b[1;33m,\u001b[0m\u001b[1;36m2\u001b[0m\u001b[1;33m,\u001b[0m\u001b[1;36m3\u001b[0m\u001b[1;33m,\u001b[0m\u001b[1;36m4\u001b[0m\u001b[1;33m}\u001b[0m\u001b[1;33m\u001b[0m\u001b[0m\n\u001b[0;32m      4\u001b[0m \u001b[0mprint\u001b[0m\u001b[1;33m(\u001b[0m\u001b[1;34m\"any(set):\"\u001b[0m\u001b[1;33m,\u001b[0m\u001b[0many\u001b[0m\u001b[1;33m(\u001b[0m\u001b[0mset1\u001b[0m\u001b[1;33m)\u001b[0m\u001b[1;33m)\u001b[0m\u001b[1;33m\u001b[0m\u001b[0m\n\u001b[0;32m      5\u001b[0m \u001b[0mprint\u001b[0m\u001b[1;33m(\u001b[0m\u001b[1;34m\"any(set):\"\u001b[0m\u001b[1;33m,\u001b[0m\u001b[0many\u001b[0m\u001b[1;33m(\u001b[0m\u001b[0mset2\u001b[0m\u001b[1;33m)\u001b[0m\u001b[1;33m)\u001b[0m\u001b[1;33m\u001b[0m\u001b[0m\n",
      "\u001b[1;31mTypeError\u001b[0m: 'list' object is not callable"
     ]
    }
   ],
   "source": [
    "#returns true ,if the set contains at least one item ,false other wise.\n",
    "set1=set()\n",
    "set2={1,2,3,4}\n",
    "print(\"any(set):\",any(set1))\n",
    "print(\"any(set):\",any(set2))"
   ]
  },
  {
   "cell_type": "markdown",
   "metadata": {},
   "source": [
    "# all(set)"
   ]
  },
  {
   "cell_type": "code",
   "execution_count": 30,
   "metadata": {},
   "outputs": [
    {
     "name": "stdout",
     "output_type": "stream",
     "text": [
      "all(set):  True\n",
      "all(set):  True\n"
     ]
    }
   ],
   "source": [
    "#Returns true ,if all the elements are true or the set true or the set is empty\n",
    "set1=()\n",
    "set2={1,2,3,4}\n",
    "print(\"all(set): \", all(set1))\n",
    "print(\"all(set): \", all(set1))"
   ]
  },
  {
   "cell_type": "code",
   "execution_count": 36,
   "metadata": {},
   "outputs": [],
   "source": [
    "set=[1,2,3,4,5,6,7,8]\n",
    "del set[0]\n"
   ]
  },
  {
   "cell_type": "code",
   "execution_count": 37,
   "metadata": {},
   "outputs": [
    {
     "data": {
      "text/plain": [
       "[2, 3, 4, 5, 6, 7, 8]"
      ]
     },
     "execution_count": 37,
     "metadata": {},
     "output_type": "execute_result"
    }
   ],
   "source": [
    "set"
   ]
  },
  {
   "cell_type": "code",
   "execution_count": 38,
   "metadata": {},
   "outputs": [
    {
     "data": {
      "text/plain": [
       "8"
      ]
     },
     "execution_count": 38,
     "metadata": {},
     "output_type": "execute_result"
    }
   ],
   "source": [
    "set.pop()#pop either index through or empty parenthese or round braket()"
   ]
  },
  {
   "cell_type": "code",
   "execution_count": 32,
   "metadata": {},
   "outputs": [
    {
     "data": {
      "text/plain": [
       "2"
      ]
     },
     "execution_count": 32,
     "metadata": {},
     "output_type": "execute_result"
    }
   ],
   "source": [
    "set.pop(0)"
   ]
  },
  {
   "cell_type": "markdown",
   "metadata": {},
   "source": [
    "# remove key using either list or set not use tuple because tuple is mutable not changes"
   ]
  },
  {
   "cell_type": "code",
   "execution_count": 40,
   "metadata": {},
   "outputs": [],
   "source": [
    "set={1,2,3,4,5,6,7}\n",
    "set.remove(7)\n"
   ]
  },
  {
   "cell_type": "code",
   "execution_count": 41,
   "metadata": {},
   "outputs": [
    {
     "data": {
      "text/plain": [
       "{1, 2, 3, 4, 5, 6}"
      ]
     },
     "execution_count": 41,
     "metadata": {},
     "output_type": "execute_result"
    }
   ],
   "source": [
    "set"
   ]
  },
  {
   "cell_type": "code",
   "execution_count": 42,
   "metadata": {},
   "outputs": [
    {
     "data": {
      "text/plain": [
       "[1, 2, 3, 4, 5, 6]"
      ]
     },
     "execution_count": 42,
     "metadata": {},
     "output_type": "execute_result"
    }
   ],
   "source": [
    "num=[1,2,3,4,5,6,7]\n",
    "num.remove(7)\n",
    "num"
   ]
  },
  {
   "cell_type": "code",
   "execution_count": 45,
   "metadata": {},
   "outputs": [],
   "source": [
    "#num=(1,2,3,4,5,6,7)#tuple is a mutalble so tuple value not change not use remove key and pop key not use in tuple \n",
    "#num.remove(6)\n",
    "#num"
   ]
  },
  {
   "cell_type": "markdown",
   "metadata": {},
   "source": [
    "# set.discard(obj)"
   ]
  },
  {
   "cell_type": "code",
   "execution_count": 47,
   "metadata": {},
   "outputs": [
    {
     "data": {
      "text/plain": [
       "{2, 3, 6}"
      ]
     },
     "execution_count": 47,
     "metadata": {},
     "output_type": "execute_result"
    }
   ],
   "source": [
    "#discard means removes an element obj from the set.nothing happens if the element to be deleted is not in the set.\n",
    "set1={3,8,2,6}\n",
    "set1.discard(8)#element present in side the set\n",
    "set1\n",
    "\n"
   ]
  },
  {
   "cell_type": "code",
   "execution_count": 49,
   "metadata": {},
   "outputs": [
    {
     "data": {
      "text/plain": [
       "{2, 3, 6}"
      ]
     },
     "execution_count": 49,
     "metadata": {},
     "output_type": "execute_result"
    }
   ],
   "source": [
    "set1.discard(9)#because not present inside set so previous result print\n",
    "set1"
   ]
  },
  {
   "cell_type": "markdown",
   "metadata": {},
   "source": [
    "# set.update(set2)"
   ]
  },
  {
   "cell_type": "code",
   "execution_count": 50,
   "metadata": {},
   "outputs": [
    {
     "name": "stdout",
     "output_type": "stream",
     "text": [
      "set1: {8, 2, 3, 6}\n",
      "set2: {1, 2, 4, 9}\n",
      "update method: {1, 2, 3, 4, 6, 8, 9}\n"
     ]
    }
   ],
   "source": [
    "set1={3,8,2,6}\n",
    "print(\"set1:\",set1)\n",
    "set2={4,2,1,9}\n",
    "print(\"set2:\",set2)\n",
    "set1.update(set2)#unique value will be taken\n",
    "print(\"update method:\",set1)"
   ]
  },
  {
   "cell_type": "markdown",
   "metadata": {},
   "source": [
    "# set.intersection(set2)"
   ]
  },
  {
   "cell_type": "code",
   "execution_count": 55,
   "metadata": {},
   "outputs": [
    {
     "name": "stdout",
     "output_type": "stream",
     "text": [
      "set1: {8, 2, 3, 6}\n",
      "set2: {1, 2, 4, 9}\n",
      "intersection {2}\n"
     ]
    }
   ],
   "source": [
    "set1={3,8,2,6}\n",
    "print(\"set1:\",set1)\n",
    "set2={4,2,1,9}\n",
    "print(\"set2:\",set2)\n",
    "set3=set1.intersection(set2)\n",
    "print(\"intersection\",set3)"
   ]
  },
  {
   "cell_type": "markdown",
   "metadata": {},
   "source": [
    "# len(dict)"
   ]
  },
  {
   "cell_type": "code",
   "execution_count": 62,
   "metadata": {},
   "outputs": [
    {
     "name": "stdout",
     "output_type": "stream",
     "text": [
      "{'Name': 'TOm', 'Age': 20}\n",
      "Length of Dictionary= 2\n"
     ]
    }
   ],
   "source": [
    "#Gives the length of the dictionary\n",
    "dict1={'Name':'TOm','Age':20}\n",
    "print(dict1)\n",
    "print(\"Length of Dictionary=\",len(dict1))\n",
    "       "
   ]
  },
  {
   "cell_type": "markdown",
   "metadata": {},
   "source": [
    "# dict.clear()"
   ]
  },
  {
   "cell_type": "code",
   "execution_count": 63,
   "metadata": {},
   "outputs": [
    {
     "data": {
      "text/plain": [
       "<function dict.clear>"
      ]
     },
     "execution_count": 63,
     "metadata": {},
     "output_type": "execute_result"
    }
   ],
   "source": [
    "dict1.clear"
   ]
  },
  {
   "cell_type": "code",
   "execution_count": 64,
   "metadata": {},
   "outputs": [
    {
     "data": {
      "text/plain": [
       "{'Name': 'TOm', 'Age': 20}"
      ]
     },
     "execution_count": 64,
     "metadata": {},
     "output_type": "execute_result"
    }
   ],
   "source": [
    "dict1"
   ]
  },
  {
   "cell_type": "code",
   "execution_count": 65,
   "metadata": {},
   "outputs": [
    {
     "name": "stdout",
     "output_type": "stream",
     "text": [
      "None\n",
      "{}\n"
     ]
    }
   ],
   "source": [
    "dict1={'Name':'TOm','Age':20}\n",
    "print(dict1.clear())\n",
    "print(dict1)"
   ]
  },
  {
   "cell_type": "markdown",
   "metadata": {},
   "source": [
    "# dict.copy"
   ]
  },
  {
   "cell_type": "code",
   "execution_count": 66,
   "metadata": {},
   "outputs": [
    {
     "name": "stdout",
     "output_type": "stream",
     "text": [
      "{'Name': 'TOm', 'Age': 20, 'Height': 160}\n",
      "{'Name': 'TOm', 'Age': 20, 'Height': 160}\n"
     ]
    }
   ],
   "source": [
    "dict1={'Name':'TOm','Age':20,'Height':160}\n",
    "print(dict1)\n",
    "dict2=dict1.copy()\n",
    "print(dict2)"
   ]
  },
  {
   "cell_type": "markdown",
   "metadata": {},
   "source": [
    "# dict.keys()"
   ]
  },
  {
   "cell_type": "code",
   "execution_count": 71,
   "metadata": {},
   "outputs": [
    {
     "name": "stdout",
     "output_type": "stream",
     "text": [
      "{'Name': 'TOm', 'Age': 20, 'Height': 160}\n",
      "Keys in Dictionary: dict_keys(['Name', 'Age', 'Height'])\n"
     ]
    }
   ],
   "source": [
    "dict1={'Name':'TOm','Age':20,'Height':160}\n",
    "print(dict1)\n",
    "print(\"Keys in Dictionary:\",dict1.keys())#Returns a list of keys in dictionary dict.(asically name,age and height are keys)"
   ]
  },
  {
   "cell_type": "markdown",
   "metadata": {},
   "source": [
    "# dict.values()"
   ]
  },
  {
   "cell_type": "code",
   "execution_count": 73,
   "metadata": {},
   "outputs": [
    {
     "data": {
      "text/plain": [
       "dict_values(['TOm', 20, 160])"
      ]
     },
     "execution_count": 73,
     "metadata": {},
     "output_type": "execute_result"
    }
   ],
   "source": [
    "dict1={'Name':'TOm','Age':20,'Height':160}\n",
    "dict1.values()\n"
   ]
  },
  {
   "cell_type": "markdown",
   "metadata": {},
   "source": [
    "# dict.items()"
   ]
  },
  {
   "cell_type": "code",
   "execution_count": 75,
   "metadata": {},
   "outputs": [
    {
     "name": "stdout",
     "output_type": "stream",
     "text": [
      "{'Name': 'TOm', 'Age': 20, 'Height': 160}\n",
      "Items in dictionary :  dict_items([('Name', 'TOm'), ('Age', 20), ('Height', 160)])\n"
     ]
    }
   ],
   "source": [
    "#it's very imp concept for python\n",
    "#Returns a list of dictionary dict's (key,value) tuple pairs.\n",
    "dict1={'Name':'TOm','Age':20,'Height':160}\n",
    "print(dict1)\n",
    "print(\"Items in dictionary : \" ,dict1.items())"
   ]
  },
  {
   "cell_type": "code",
   "execution_count": null,
   "metadata": {},
   "outputs": [],
   "source": []
  }
 ],
 "metadata": {
  "kernelspec": {
   "display_name": "Python 3",
   "language": "python",
   "name": "python3"
  },
  "language_info": {
   "codemirror_mode": {
    "name": "ipython",
    "version": 3
   },
   "file_extension": ".py",
   "mimetype": "text/x-python",
   "name": "python",
   "nbconvert_exporter": "python",
   "pygments_lexer": "ipython3",
   "version": "3.6.5"
  }
 },
 "nbformat": 4,
 "nbformat_minor": 2
}
