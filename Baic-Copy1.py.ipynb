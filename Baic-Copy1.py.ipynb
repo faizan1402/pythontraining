{
 "cells": [
  {
   "cell_type": "code",
   "execution_count": 1,
   "metadata": {},
   "outputs": [
    {
     "ename": "SyntaxError",
     "evalue": "invalid syntax (<ipython-input-1-2818641fce44>, line 2)",
     "output_type": "error",
     "traceback": [
      "\u001b[1;36m  File \u001b[1;32m\"<ipython-input-1-2818641fce44>\"\u001b[1;36m, line \u001b[1;32m2\u001b[0m\n\u001b[1;33m    def__init__(self,name):\u001b[0m\n\u001b[1;37m                           ^\u001b[0m\n\u001b[1;31mSyntaxError\u001b[0m\u001b[1;31m:\u001b[0m invalid syntax\n"
     ]
    }
   ],
   "source": [
    "class parent :\n",
    "    def__init__(self,name):\n",
    "        print('parent__init__',name)\n",
    "class child(parent):\n",
    "    def__init__(self):\n",
    "        print('child__init__')\n",
    "        super().__init__('max')\n",
    "child = child()\n",
    "print(child.__mro )"
   ]
  },
  {
   "cell_type": "code",
   "execution_count": 1,
   "metadata": {},
   "outputs": [
    {
     "name": "stdout",
     "output_type": "stream",
     "text": [
      "hello world\n"
     ]
    }
   ],
   "source": [
    "print('hello world')"
   ]
  },
  {
   "cell_type": "code",
   "execution_count": 2,
   "metadata": {},
   "outputs": [
    {
     "name": "stdout",
     "output_type": "stream",
     "text": [
      "40\n"
     ]
    }
   ],
   "source": [
    "num1 =8\n",
    "num2 =5\n",
    "print(num1*num2)\n",
    "\n"
   ]
  },
  {
   "cell_type": "code",
   "execution_count": 5,
   "metadata": {},
   "outputs": [
    {
     "name": "stdout",
     "output_type": "stream",
     "text": [
      "['roy', 'joy ']\n"
     ]
    }
   ],
   "source": [
    " name =['roy','joy ']\n",
    "print(name)"
   ]
  },
  {
   "cell_type": "code",
   "execution_count": 6,
   "metadata": {},
   "outputs": [
    {
     "name": "stdout",
     "output_type": "stream",
     "text": [
      "faizan\n"
     ]
    }
   ],
   "source": [
    "name =\"faizan\"\n",
    "print(name)"
   ]
  },
  {
   "cell_type": "code",
   "execution_count": 12,
   "metadata": {},
   "outputs": [
    {
     "name": "stdout",
     "output_type": "stream",
     "text": [
      "['ROY', 'JOY', 'TOM'] [20, 23, 24]\n"
     ]
    }
   ],
   "source": [
    "name =['ROY','JOY','TOM']\n",
    "age =[20,23,24]\n",
    "print(name,age)"
   ]
  },
  {
   "cell_type": "code",
   "execution_count": 11,
   "metadata": {},
   "outputs": [
    {
     "name": "stdout",
     "output_type": "stream",
     "text": [
      "['ROY', 'JOY', 'TOM', 'harry']\n"
     ]
    }
   ],
   "source": [
    "name =['ROY','JOY','TOM']\n",
    "name.append('harry')\n",
    "print(name)\n",
    "\n"
   ]
  },
  {
   "cell_type": "code",
   "execution_count": 1,
   "metadata": {},
   "outputs": [
    {
     "name": "stdout",
     "output_type": "stream",
     "text": [
      "{1, 2, 3}\n"
     ]
    }
   ],
   "source": [
    "A ={1,2,3}  \n",
    "print(A)\n"
   ]
  },
  {
   "cell_type": "code",
   "execution_count": 19,
   "metadata": {},
   "outputs": [
    {
     "name": "stdout",
     "output_type": "stream",
     "text": [
      "<class 'int'>\n"
     ]
    }
   ],
   "source": [
    "y =5\n",
    "print(type(y))"
   ]
  },
  {
   "cell_type": "code",
   "execution_count": 20,
   "metadata": {},
   "outputs": [
    {
     "name": "stdout",
     "output_type": "stream",
     "text": [
      "0\n",
      "1\n",
      "2\n",
      "3\n",
      "4\n"
     ]
    }
   ],
   "source": [
    "x=0\n",
    "while x<5:\n",
    "    print(x)\n",
    "    x+=1"
   ]
  },
  {
   "cell_type": "code",
   "execution_count": 2,
   "metadata": {},
   "outputs": [
    {
     "name": "stdout",
     "output_type": "stream",
     "text": [
      "EVEN NO\n"
     ]
    }
   ],
   "source": [
    "x=0\n",
    "if x%2==0 :\n",
    "    print(\"EVEN NO\")\n",
    "else:\n",
    "    print(\"ODD NO\")"
   ]
  },
  {
   "cell_type": "code",
   "execution_count": 30,
   "metadata": {},
   "outputs": [
    {
     "name": "stdout",
     "output_type": "stream",
     "text": [
      "faizan\n"
     ]
    }
   ],
   "source": [
    "name = \"faizan\"\n",
    "print(name[:])"
   ]
  },
  {
   "cell_type": "code",
   "execution_count": 38,
   "metadata": {},
   "outputs": [
    {
     "name": "stdout",
     "output_type": "stream",
     "text": [
      "Enter your namefaizan \n",
      "Enter your age23\n",
      "faizan \n",
      "23\n"
     ]
    }
   ],
   "source": [
    "name =input(\"Enter your name\")\n",
    "age =input(\"Enter your age\")\n",
    "print(name)\n",
    "print(age)"
   ]
  },
  {
   "cell_type": "code",
   "execution_count": 40,
   "metadata": {},
   "outputs": [
    {
     "name": "stdout",
     "output_type": "stream",
     "text": [
      "<built-in method upper of str object at 0x0000029985F3E618>\n"
     ]
    }
   ],
   "source": [
    "name =\"faizan\"\n",
    "print(name.upper)"
   ]
  },
  {
   "cell_type": "code",
   "execution_count": 41,
   "metadata": {},
   "outputs": [
    {
     "name": "stdout",
     "output_type": "stream",
     "text": [
      "3.141592653589793\n"
     ]
    }
   ],
   "source": [
    "import math\n",
    "print(math.pi)    "
   ]
  },
  {
   "cell_type": "code",
   "execution_count": 44,
   "metadata": {},
   "outputs": [
    {
     "name": "stdout",
     "output_type": "stream",
     "text": [
      "enter a nameFAIZAN\n",
      "the name is valid\n"
     ]
    }
   ],
   "source": [
    "name =input(\"enter a name\")\n",
    "if name ==\"tom\":\n",
    "    print(\"the name  entered is\",name)\n",
    "elif name ==\"joy\":\n",
    "    print(\"The name  enterd is\",name)\n",
    "else:\n",
    "    print(\"the name is valid\")"
   ]
  },
  {
   "cell_type": "code",
   "execution_count": 47,
   "metadata": {},
   "outputs": [
    {
     "name": "stdout",
     "output_type": "stream",
     "text": [
      "HELLO\n"
     ]
    }
   ],
   "source": [
    "x=\"hello\"\n",
    "print(x.upper())"
   ]
  },
  {
   "cell_type": "code",
   "execution_count": 54,
   "metadata": {},
   "outputs": [
    {
     "name": "stdout",
     "output_type": "stream",
     "text": [
      "\n"
     ]
    }
   ],
   "source": [
    "fo=open(\"cas.txt\",\"w+\")\n",
    "fo.write(\"sAMPLE\")\n",
    "str=fo.read(10)\n",
    "print(str)\n",
    "#print(fo.read(10))\n",
    "fo.close()"
   ]
  },
  {
   "cell_type": "markdown",
   "metadata": {},
   "source": [
    "\n",
    "print((builtins))"
   ]
  },
  {
   "cell_type": "code",
   "execution_count": 1,
   "metadata": {},
   "outputs": [
    {
     "name": "stdout",
     "output_type": "stream",
     "text": [
      "I' m going to inject something here.\n"
     ]
    }
   ],
   "source": [
    "print(\"I' m going to inject %s here.\" %'something')\n",
    "\n"
   ]
  },
  {
   "cell_type": "code",
   "execution_count": 6,
   "metadata": {},
   "outputs": [
    {
     "name": "stdout",
     "output_type": "stream",
     "text": [
      "I' m going to inject some text here ,and more text here.\n",
      "I' m going to inject more text here ,and some text here.\n"
     ]
    }
   ],
   "source": [
    "# you can pass multiple items by placing them inside a tuple after the %s operator\n",
    "\n",
    "x,y ='some','more'\n",
    "print(\"I' m going to inject %s text here ,and %s text here.\"%(x,y))\n",
    "x,y ='some','more'\n",
    "print(\"I' m going to inject %s text here ,and %s text here.\"%(y,x))"
   ]
  },
  {
   "cell_type": "markdown",
   "metadata": {},
   "source": [
    "# Format conversion methods"
   ]
  },
  {
   "cell_type": "code",
   "execution_count": 9,
   "metadata": {},
   "outputs": [
    {
     "name": "stdout",
     "output_type": "stream",
     "text": [
      "He said name was fred.\n",
      "He said name was 'fred'.\n"
     ]
    }
   ],
   "source": [
    "print('He said name was %s.' %'fred')\n",
    "print('He said name was %r.'%'fred') # raw string  basically raw string do not  "
   ]
  },
  {
   "cell_type": "code",
   "execution_count": 10,
   "metadata": {},
   "outputs": [
    {
     "name": "stdout",
     "output_type": "stream",
     "text": [
      "I once caught a fish this \tbig.\n",
      "I once caught a fish this \tbig.\n"
     ]
    }
   ],
   "source": [
    "print('I once caught a fish %s.'%'this \\tbig')\n",
    "print('I once caught a fish %s.'%'this \\tbig')"
   ]
  },
  {
   "cell_type": "code",
   "execution_count": 11,
   "metadata": {},
   "outputs": [
    {
     "name": "stdout",
     "output_type": "stream",
     "text": [
      "I wrote 3.75 programs today.\n",
      "I wrote 3 programs today.\n"
     ]
    }
   ],
   "source": [
    "print('I wrote %s programs today.'%3.75)\n",
    "print('I wrote %d programs today.'%3.75)"
   ]
  },
  {
   "cell_type": "code",
   "execution_count": 13,
   "metadata": {},
   "outputs": [
    {
     "name": "stdout",
     "output_type": "stream",
     "text": [
      "Floating point numbers :13.14\n"
     ]
    }
   ],
   "source": [
    "print('Floating point numbers :%5.2f'%(13.144))"
   ]
  },
  {
   "cell_type": "code",
   "execution_count": 14,
   "metadata": {},
   "outputs": [
    {
     "name": "stdout",
     "output_type": "stream",
     "text": [
      "Floating point numbers :13.14\n"
     ]
    }
   ],
   "source": [
    "print('Floating point numbers :%1.2f'%(13.144))"
   ]
  },
  {
   "cell_type": "code",
   "execution_count": 17,
   "metadata": {},
   "outputs": [
    {
     "name": "stdout",
     "output_type": "stream",
     "text": [
      "Floating point numbers :13.144\n"
     ]
    }
   ],
   "source": [
    "print('Floating point numbers :%1.3f'%(13.144))"
   ]
  },
  {
   "cell_type": "code",
   "execution_count": 19,
   "metadata": {},
   "outputs": [
    {
     "name": "stdout",
     "output_type": "stream",
     "text": [
      "Floating point numbers :13.1440\n"
     ]
    }
   ],
   "source": [
    "print('Floating point numbers :%1.4f'%(13.144))"
   ]
  },
  {
   "cell_type": "code",
   "execution_count": 21,
   "metadata": {},
   "outputs": [
    {
     "name": "stdout",
     "output_type": "stream",
     "text": [
      "Floating point numbers :13.144000\n"
     ]
    }
   ],
   "source": [
    "print('Floating point numbers :%1f'%(13.144))"
   ]
  },
  {
   "cell_type": "code",
   "execution_count": 25,
   "metadata": {},
   "outputs": [
    {
     "name": "stdout",
     "output_type": "stream",
     "text": [
      "Floating point numbers :13.14400050\n"
     ]
    }
   ],
   "source": [
    "print('Floating point numbers :%f50' %13.144)"
   ]
  },
  {
   "cell_type": "code",
   "execution_count": 32,
   "metadata": {},
   "outputs": [
    {
     "name": "stdout",
     "output_type": "stream",
     "text": [
      "Floating point numbers :13.14400000000000012790\n"
     ]
    }
   ],
   "source": [
    "print('Floating point numbers :%-10.20f'%13.144)"
   ]
  },
  {
   "cell_type": "code",
   "execution_count": 30,
   "metadata": {},
   "outputs": [
    {
     "name": "stdout",
     "output_type": "stream",
     "text": [
      "Floating point numbers :13.14     hello\n"
     ]
    }
   ],
   "source": [
    "print('Floating point numbers :%-10.2f''hello'%13.144)"
   ]
  },
  {
   "cell_type": "markdown",
   "metadata": {},
   "source": [
    "# https://docs.python.org/3/libraray/studies.html\n"
   ]
  },
  {
   "cell_type": "code",
   "execution_count": 33,
   "metadata": {},
   "outputs": [
    {
     "name": "stdout",
     "output_type": "stream",
     "text": [
      "This is a string with an insert\n"
     ]
    }
   ],
   "source": [
    "print('This is a string with an {}'.format('insert'))"
   ]
  },
  {
   "cell_type": "markdown",
   "metadata": {},
   "source": [
    "# The .format method has several advantages over the %s placeholder method:"
   ]
  },
  {
   "cell_type": "code",
   "execution_count": 35,
   "metadata": {},
   "outputs": [
    {
     "name": "stdout",
     "output_type": "stream",
     "text": [
      "The quick brown fox\n"
     ]
    }
   ],
   "source": [
    "#1 inserted objects can be called by index position :\n",
    "print('The {2} {1} {0}'.format('fox','brown','quick'))"
   ]
  },
  {
   "cell_type": "code",
   "execution_count": 36,
   "metadata": {},
   "outputs": [
    {
     "name": "stdout",
     "output_type": "stream",
     "text": [
      "First object:1, Second object :2,Third object :3\n"
     ]
    }
   ],
   "source": [
    "#2 inserted objects can be assigns keywords :\n",
    "print('First object:{a}, Second object :{b},Third object :{c}'.format(a=1,b=2,c=3))"
   ]
  },
  {
   "cell_type": "code",
   "execution_count": 37,
   "metadata": {},
   "outputs": [
    {
     "name": "stdout",
     "output_type": "stream",
     "text": [
      "A penny saved is a penny earned .\n",
      "A penny saved is a penny earned .\n"
     ]
    }
   ],
   "source": [
    "# 3 Inserted objects can be  reused avoiding duplication :\n",
    "print('A %s saved is a %s earned .'%('penny','penny'))\n",
    "#vs.\n",
    "print('A {p} saved is a {p} earned .'.format(p='penny'))"
   ]
  },
  {
   "cell_type": "markdown",
   "metadata": {},
   "source": [
    "# ALIGNEMNT ,PADDING AND PRECISION WITH .FORMAT()"
   ]
  },
  {
   "cell_type": "code",
   "execution_count": null,
   "metadata": {},
   "outputs": [],
   "source": [
    "within the curly braces you can assign field lengths ,left/right alignments,rounding parameters and more"
   ]
  }
 ],
 "metadata": {
  "kernelspec": {
   "display_name": "Python 3",
   "language": "python",
   "name": "python3"
  },
  "language_info": {
   "codemirror_mode": {
    "name": "ipython",
    "version": 3
   },
   "file_extension": ".py",
   "mimetype": "text/x-python",
   "name": "python",
   "nbconvert_exporter": "python",
   "pygments_lexer": "ipython3",
   "version": "3.6.5"
  }
 },
 "nbformat": 4,
 "nbformat_minor": 2
}
