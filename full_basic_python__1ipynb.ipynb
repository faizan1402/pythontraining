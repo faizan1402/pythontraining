{
  "nbformat": 4,
  "nbformat_minor": 0,
  "metadata": {
    "colab": {
      "name": "full_basic_python_.1ipynb",
      "provenance": [],
      "collapsed_sections": [],
      "authorship_tag": "ABX9TyM0L5uxm65AyiGe1L3PerBn",
      "include_colab_link": true
    },
    "kernelspec": {
      "name": "python3",
      "display_name": "Python 3"
    },
    "language_info": {
      "name": "python"
    }
  },
  "cells": [
    {
      "cell_type": "markdown",
      "metadata": {
        "id": "view-in-github",
        "colab_type": "text"
      },
      "source": [
        "<a href=\"https://colab.research.google.com/github/faizan1402/pythontraining/blob/master/full_basic_python__1ipynb.ipynb\" target=\"_parent\"><img src=\"https://colab.research.google.com/assets/colab-badge.svg\" alt=\"Open In Colab\"/></a>"
      ]
    },
    {
      "cell_type": "code",
      "metadata": {
        "colab": {
          "base_uri": "https://localhost:8080/"
        },
        "id": "XoCj9_uLLB62",
        "outputId": "3afbe089-851c-4ee9-bd6a-da4f31436236"
      },
      "source": [
        "print(\"hello\")"
      ],
      "execution_count": null,
      "outputs": [
        {
          "output_type": "stream",
          "text": [
            "hello\n"
          ],
          "name": "stdout"
        }
      ]
    },
    {
      "cell_type": "code",
      "metadata": {
        "colab": {
          "base_uri": "https://localhost:8080/",
          "height": 35
        },
        "id": "maWEehxDLIXV",
        "outputId": "bad4be1d-35a6-44a7-9a6b-bb0bea8efb75"
      },
      "source": [
        "\"hello\""
      ],
      "execution_count": null,
      "outputs": [
        {
          "output_type": "execute_result",
          "data": {
            "application/vnd.google.colaboratory.intrinsic+json": {
              "type": "string"
            },
            "text/plain": [
              "'hello'"
            ]
          },
          "metadata": {
            "tags": []
          },
          "execution_count": 2
        }
      ]
    },
    {
      "cell_type": "code",
      "metadata": {
        "colab": {
          "base_uri": "https://localhost:8080/"
        },
        "id": "jPCL7O9TLPP_",
        "outputId": "88760987-1ff6-4d69-d369-e082a7c03887"
      },
      "source": [
        "2==2"
      ],
      "execution_count": null,
      "outputs": [
        {
          "output_type": "execute_result",
          "data": {
            "text/plain": [
              "True"
            ]
          },
          "metadata": {
            "tags": []
          },
          "execution_count": 3
        }
      ]
    },
    {
      "cell_type": "code",
      "metadata": {
        "colab": {
          "base_uri": "https://localhost:8080/"
        },
        "id": "qyHXvxZELRV0",
        "outputId": "588938a2-7ad0-41bc-fdb4-2f3817b14a08"
      },
      "source": [
        "2<1"
      ],
      "execution_count": null,
      "outputs": [
        {
          "output_type": "execute_result",
          "data": {
            "text/plain": [
              "False"
            ]
          },
          "metadata": {
            "tags": []
          },
          "execution_count": 4
        }
      ]
    },
    {
      "cell_type": "code",
      "metadata": {
        "colab": {
          "base_uri": "https://localhost:8080/"
        },
        "id": "Q1-KqXSZLTF9",
        "outputId": "2b10e326-45e0-40d2-c681-02f14b0f757b"
      },
      "source": [
        "3!=2"
      ],
      "execution_count": null,
      "outputs": [
        {
          "output_type": "execute_result",
          "data": {
            "text/plain": [
              "True"
            ]
          },
          "metadata": {
            "tags": []
          },
          "execution_count": 5
        }
      ]
    },
    {
      "cell_type": "code",
      "metadata": {
        "colab": {
          "base_uri": "https://localhost:8080/"
        },
        "id": "nAbONKSFLV2k",
        "outputId": "4d7629d1-7fbe-4801-a445-884c7bb0c9aa"
      },
      "source": [
        "3!=3"
      ],
      "execution_count": null,
      "outputs": [
        {
          "output_type": "execute_result",
          "data": {
            "text/plain": [
              "False"
            ]
          },
          "metadata": {
            "tags": []
          },
          "execution_count": 6
        }
      ]
    },
    {
      "cell_type": "code",
      "metadata": {
        "colab": {
          "base_uri": "https://localhost:8080/"
        },
        "id": "YwZfx3STLYBP",
        "outputId": "5e2443f0-8953-4923-dad5-803781a2d6c4"
      },
      "source": [
        "a = [1,2,3,4]\n",
        "a"
      ],
      "execution_count": null,
      "outputs": [
        {
          "output_type": "execute_result",
          "data": {
            "text/plain": [
              "[1, 2, 3, 4]"
            ]
          },
          "metadata": {
            "tags": []
          },
          "execution_count": 7
        }
      ]
    },
    {
      "cell_type": "code",
      "metadata": {
        "colab": {
          "base_uri": "https://localhost:8080/"
        },
        "id": "Uw8RqJQeLgnR",
        "outputId": "c0dfdf0b-0783-44b2-b7cb-0e7e177cd4e3"
      },
      "source": [
        "import keyword\n",
        "#total keyword ->33 keyword\n",
        "print(keyword.kwlist)"
      ],
      "execution_count": null,
      "outputs": [
        {
          "output_type": "stream",
          "text": [
            "['False', 'None', 'True', 'and', 'as', 'assert', 'async', 'await', 'break', 'class', 'continue', 'def', 'del', 'elif', 'else', 'except', 'finally', 'for', 'from', 'global', 'if', 'import', 'in', 'is', 'lambda', 'nonlocal', 'not', 'or', 'pass', 'raise', 'return', 'try', 'while', 'with', 'yield']\n"
          ],
          "name": "stdout"
        }
      ]
    },
    {
      "cell_type": "code",
      "metadata": {
        "id": "foXBNJHALmux"
      },
      "source": [
        ""
      ],
      "execution_count": null,
      "outputs": []
    },
    {
      "cell_type": "code",
      "metadata": {
        "colab": {
          "base_uri": "https://localhost:8080/"
        },
        "id": "DUEvjsiqN-4n",
        "outputId": "f8f560ca-e164-4198-eea6-1df857704838"
      },
      "source": [
        "print(2,3,4,\"+\",\"%\")"
      ],
      "execution_count": null,
      "outputs": [
        {
          "output_type": "stream",
          "text": [
            "2 3 4 + %\n"
          ],
          "name": "stdout"
        }
      ]
    },
    {
      "cell_type": "code",
      "metadata": {
        "colab": {
          "base_uri": "https://localhost:8080/"
        },
        "id": "A-j43xoXPVV-",
        "outputId": "393f11da-f131-49f2-bc6b-876a27040339"
      },
      "source": [
        "n = input(\"Enter a number:\")\n",
        "print(\"The Number is \",n)"
      ],
      "execution_count": null,
      "outputs": [
        {
          "output_type": "stream",
          "text": [
            "Enter a number:5\n",
            "The Number is  5\n"
          ],
          "name": "stdout"
        }
      ]
    },
    {
      "cell_type": "code",
      "metadata": {
        "colab": {
          "base_uri": "https://localhost:8080/"
        },
        "id": "ry-_Ja30QCzQ",
        "outputId": "6e4128c7-1c49-4b1c-ef7e-78c995fca45b"
      },
      "source": [
        "import math\n",
        "math.pi"
      ],
      "execution_count": null,
      "outputs": [
        {
          "output_type": "execute_result",
          "data": {
            "text/plain": [
              "3.141592653589793"
            ]
          },
          "metadata": {
            "tags": []
          },
          "execution_count": 12
        }
      ]
    },
    {
      "cell_type": "code",
      "metadata": {
        "colab": {
          "base_uri": "https://localhost:8080/"
        },
        "id": "GXSMPA_YRWQ5",
        "outputId": "b8c369e3-a9d7-4b04-ec42-86ab88fcd1e2"
      },
      "source": [
        "#bitwise operators\n",
        "a=60\n",
        "b=2\n",
        "print(a&b)\n",
        "print(a|b)\n",
        "print(a^b)\n",
        "print(a>>b)#binary right shift\n",
        "print(a<<b)#binary left shift"
      ],
      "execution_count": null,
      "outputs": [
        {
          "output_type": "stream",
          "text": [
            "0\n",
            "62\n",
            "62\n",
            "15\n",
            "240\n"
          ],
          "name": "stdout"
        }
      ]
    },
    {
      "cell_type": "code",
      "metadata": {
        "colab": {
          "base_uri": "https://localhost:8080/"
        },
        "id": "C3ufAxuracSc",
        "outputId": "a4d2f4b7-c752-4bf4-81e4-8f452cbdc57b"
      },
      "source": [
        "a =2\n",
        "b=2\n",
        "c=2\n",
        "print(a>=b)and(b<=c)"
      ],
      "execution_count": null,
      "outputs": [
        {
          "output_type": "stream",
          "text": [
            "True\n"
          ],
          "name": "stdout"
        }
      ]
    },
    {
      "cell_type": "code",
      "metadata": {
        "colab": {
          "base_uri": "https://localhost:8080/"
        },
        "id": "vY6Og3WOdIFe",
        "outputId": "ddd0b57d-88d0-4919-f3f6-68cf75c43660"
      },
      "source": [
        "a =2\n",
        "b=2\n",
        "c=2\n",
        "print(a>=b)and(b<=c)"
      ],
      "execution_count": null,
      "outputs": [
        {
          "output_type": "stream",
          "text": [
            "True\n"
          ],
          "name": "stdout"
        }
      ]
    },
    {
      "cell_type": "code",
      "metadata": {
        "colab": {
          "base_uri": "https://localhost:8080/"
        },
        "id": "9HL3EOiVd2VQ",
        "outputId": "25851787-3ccd-4a46-ef1b-50ff1f23edc5"
      },
      "source": [
        "# Membership Operators\n",
        "s='abcde'\n",
        "print('a' in s)\n",
        "print('f'in s)"
      ],
      "execution_count": null,
      "outputs": [
        {
          "output_type": "stream",
          "text": [
            "True\n",
            "False\n"
          ],
          "name": "stdout"
        }
      ]
    },
    {
      "cell_type": "code",
      "metadata": {
        "id": "_f7vDMaQd26_",
        "colab": {
          "base_uri": "https://localhost:8080/"
        },
        "outputId": "dedd5e36-9b6a-4a17-9983-b54ccf8f2308"
      },
      "source": [
        "# Operator precedence\n",
        "\n",
        "b = [2,3,4,5]\n",
        "for i in b:\n",
        "  print(b)"
      ],
      "execution_count": null,
      "outputs": [
        {
          "output_type": "stream",
          "text": [
            "[2, 3, 4, 5]\n",
            "[2, 3, 4, 5]\n",
            "[2, 3, 4, 5]\n",
            "[2, 3, 4, 5]\n"
          ],
          "name": "stdout"
        }
      ]
    },
    {
      "cell_type": "code",
      "metadata": {
        "colab": {
          "base_uri": "https://localhost:8080/"
        },
        "id": "9wchGSSnIL-U",
        "outputId": "1a3dff28-2c25-4651-8445-7ca3d8b4ec8b"
      },
      "source": [
        "print(\"good one\")"
      ],
      "execution_count": null,
      "outputs": [
        {
          "output_type": "stream",
          "text": [
            "good one\n"
          ],
          "name": "stdout"
        }
      ]
    },
    {
      "cell_type": "code",
      "metadata": {
        "colab": {
          "base_uri": "https://localhost:8080/"
        },
        "id": "n4Nvaf3PIMZN",
        "outputId": "5b5e01e9-8a74-40d7-dd94-912f3dd7f12e"
      },
      "source": [
        "c= 2\n",
        "a = 2.5\n",
        "b = True\n",
        "b\n"
      ],
      "execution_count": null,
      "outputs": [
        {
          "output_type": "execute_result",
          "data": {
            "text/plain": [
              "True"
            ]
          },
          "metadata": {},
          "execution_count": 12
        }
      ]
    },
    {
      "cell_type": "code",
      "metadata": {
        "id": "qurmFNo3IMmn"
      },
      "source": [
        "d = None\n",
        "d"
      ],
      "execution_count": null,
      "outputs": []
    },
    {
      "cell_type": "code",
      "metadata": {
        "colab": {
          "base_uri": "https://localhost:8080/"
        },
        "id": "-I2heAZMd8c6",
        "outputId": "0cf45202-b14b-4eaf-b8d3-2bcf5f691131"
      },
      "source": [
        "#Printing the variables name\n",
        "print(type(b))"
      ],
      "execution_count": null,
      "outputs": [
        {
          "output_type": "stream",
          "text": [
            "<class 'bool'>\n"
          ],
          "name": "stdout"
        }
      ]
    },
    {
      "cell_type": "code",
      "metadata": {
        "colab": {
          "base_uri": "https://localhost:8080/"
        },
        "id": "aDV-mSg7d8t6",
        "outputId": "7cd3df1b-828d-49a8-b59a-38549919dfd5"
      },
      "source": [
        "print(type(d))\n",
        "print(type(a))\n",
        "print(type(c))"
      ],
      "execution_count": null,
      "outputs": [
        {
          "output_type": "stream",
          "text": [
            "<class 'NoneType'>\n",
            "<class 'float'>\n",
            "<class 'int'>\n"
          ],
          "name": "stdout"
        }
      ]
    },
    {
      "cell_type": "code",
      "metadata": {
        "id": "i5Y-6322emRj"
      },
      "source": [
        "#before variable number digit can not start\n",
        "b_2 = 4"
      ],
      "execution_count": null,
      "outputs": []
    },
    {
      "cell_type": "code",
      "metadata": {
        "id": "zzCLK6tkeme2"
      },
      "source": [
        ""
      ],
      "execution_count": null,
      "outputs": []
    },
    {
      "cell_type": "markdown",
      "metadata": {
        "id": "tzuWRQGYf8TI"
      },
      "source": [
        "#**Four Operators in python**"
      ]
    },
    {
      "cell_type": "code",
      "metadata": {
        "colab": {
          "base_uri": "https://localhost:8080/"
        },
        "id": "n_bTtmEOemu4",
        "outputId": "74328869-ae1d-4ab7-9879-f57d40d40417"
      },
      "source": [
        "# Arithmetic Operators => +,-*,/ etc\n",
        "# Assigment Operators => =,+=,-= etc\n",
        "# Comparision Operators => ==,>,>=,<,!= etc\n",
        "# Logical Operators => and,or,not\n",
        "\n",
        "print(\"The value of 3+4 is \",3+4 )\n",
        "print(\"The value of 3-4 is\",3-4)\n",
        "\n",
        "\n",
        "\n",
        "\n",
        "\n"
      ],
      "execution_count": null,
      "outputs": [
        {
          "output_type": "stream",
          "text": [
            "The value of 3+4 is  7\n",
            "The value of 3-4 is -1\n"
          ],
          "name": "stdout"
        }
      ]
    },
    {
      "cell_type": "code",
      "metadata": {
        "id": "ut1pLacDem7m",
        "colab": {
          "base_uri": "https://localhost:8080/"
        },
        "outputId": "639f72df-1487-4adb-a382-1febca8f2c8e"
      },
      "source": [
        "# Assignment Operators\n",
        "a = 34\n",
        "a -=12\n",
        "a /=12\n",
        "print(a)"
      ],
      "execution_count": null,
      "outputs": [
        {
          "output_type": "stream",
          "text": [
            "1.8333333333333333\n"
          ],
          "name": "stdout"
        }
      ]
    },
    {
      "cell_type": "code",
      "metadata": {
        "colab": {
          "base_uri": "https://localhost:8080/"
        },
        "id": "0NqtaCdAV0aK",
        "outputId": "39e972ee-ec7a-4ce9-b60f-ed1b6b079556"
      },
      "source": [
        "#Comparision Operators\n",
        "b = (4>7)\n",
        "print(b)\n",
        "c = (3>2)\n",
        "d = (3==3)\n",
        "e = (3>=4)\n",
        "f = (14!=7)\n",
        "print(c)\n",
        "print(d)\n",
        "print(e)\n",
        "print(f)"
      ],
      "execution_count": null,
      "outputs": [
        {
          "output_type": "stream",
          "text": [
            "False\n",
            "True\n",
            "True\n",
            "False\n",
            "True\n"
          ],
          "name": "stdout"
        }
      ]
    },
    {
      "cell_type": "code",
      "metadata": {
        "colab": {
          "base_uri": "https://localhost:8080/"
        },
        "id": "4SIFZwhPV1C-",
        "outputId": "c4be99bc-3153-41bd-f18f-89909c35fb7a"
      },
      "source": [
        "# Logical Operators\n",
        "bool1 = True\n",
        "bool2 = False\n",
        "print(\"The value of bool1 and bool2 is\",(bool1 and bool2))\n",
        "print(\"The value of bool1 and bool2 is\",(bool1 or bool2))\n",
        "print(\"The value of not bool2 is\",(not bool2 ))"
      ],
      "execution_count": null,
      "outputs": [
        {
          "output_type": "stream",
          "text": [
            "The value of bool1 and bool2 is False\n",
            "The value of bool1 and bool2 is True\n",
            "The value of not bool2 is True\n"
          ],
          "name": "stdout"
        }
      ]
    },
    {
      "cell_type": "code",
      "metadata": {
        "colab": {
          "base_uri": "https://localhost:8080/"
        },
        "id": "I6yxId14V1TQ",
        "outputId": "88993c75-cb31-4815-cb87-0fb1bd6fa7f1"
      },
      "source": [
        "# Typecasting means one data type to another data type\n",
        "#int to string => conversion\n",
        "\n",
        "a = \"3534\"\n",
        "a = int(a)\n",
        "print(type(a))\n",
        "print(a +5)"
      ],
      "execution_count": null,
      "outputs": [
        {
          "output_type": "stream",
          "text": [
            "<class 'int'>\n",
            "3539\n"
          ],
          "name": "stdout"
        }
      ]
    },
    {
      "cell_type": "code",
      "metadata": {
        "colab": {
          "base_uri": "https://localhost:8080/"
        },
        "id": "RDEh2SrOV1hm",
        "outputId": "78bdcaed-92e1-4450-b20d-3916d9ba38d7"
      },
      "source": [
        "#Input Function\n",
        "b = input(\"Enter Your Name\")\n",
        "print(b)"
      ],
      "execution_count": null,
      "outputs": [
        {
          "output_type": "stream",
          "text": [
            "Enter Your NameFaizan Ahmad\n",
            "Faizan Ahmad\n"
          ],
          "name": "stdout"
        }
      ]
    },
    {
      "cell_type": "code",
      "metadata": {
        "colab": {
          "base_uri": "https://localhost:8080/"
        },
        "id": "ywkCPCDuaOlD",
        "outputId": "b24e38ad-abe1-4dce-96a0-02c8702ae081"
      },
      "source": [
        "a=45\n",
        "b=15\n",
        "print(\"The remainder when a is divided by b is\",a%b)"
      ],
      "execution_count": null,
      "outputs": [
        {
          "output_type": "stream",
          "text": [
            "The remainder when a is divided by b is 0\n"
          ],
          "name": "stdout"
        }
      ]
    },
    {
      "cell_type": "code",
      "metadata": {
        "colab": {
          "base_uri": "https://localhost:8080/"
        },
        "id": "bOyt7XIXaOwa",
        "outputId": "5bef90b2-8403-4412-ee00-8122289a9a49"
      },
      "source": [
        "a = input(\"Enter First Number:\")\n",
        "b = input(\"Enter Second Number: \")\n",
        "a = int(a)\n",
        "b = int(b)\n",
        "avg = (a+b)/2\n",
        "print(\"The average of a and b is\",avg)"
      ],
      "execution_count": null,
      "outputs": [
        {
          "output_type": "stream",
          "text": [
            "Enter First Number:2\n",
            "Enter Second Number: 3\n",
            "The average of a and b is 2.5\n"
          ],
          "name": "stdout"
        }
      ]
    },
    {
      "cell_type": "code",
      "metadata": {
        "colab": {
          "base_uri": "https://localhost:8080/"
        },
        "id": "l9gZlxzeaO5s",
        "outputId": "93fa87bc-f040-4629-b3f3-4c8320dcae37"
      },
      "source": [
        "b = \"Hello\"\n",
        "print(b)\n",
        "c = '''Hello'''\n",
        "print(c)\n",
        "#Add String\n",
        "greeting = \"Good Morning\"\n",
        "name = \"Harry\"\n",
        "# Concatinate two strings\n",
        "print(greeting + \" \" + name)\n",
        "# name[start index :int_end index]\n",
        "\n",
        "print(name[1:4])\n",
        "print(name[:4])# is same as name [0:4]\n",
        "print(name[1:])# is same as name [1:5]\n",
        "print(name[0:5])\n",
        "print(name[:5])\n",
        "print(name[0:])"
      ],
      "execution_count": null,
      "outputs": [
        {
          "output_type": "stream",
          "text": [
            "Hello\n",
            "Hello\n",
            "Good Morning Harry\n",
            "Harry\n",
            "Harry\n",
            "Harry\n"
          ],
          "name": "stdout"
        }
      ]
    },
    {
      "cell_type": "code",
      "metadata": {
        "colab": {
          "base_uri": "https://localhost:8080/"
        },
        "id": "xH6lbP0kaPEa",
        "outputId": "93ca299f-1db1-47df-914b-06c165e2acb9"
      },
      "source": [
        "''' Negative index is\n",
        "name = h a r r y  => length =5\n",
        "       0 1 2 3 4\n",
        "      -5 -4 -3 -2 -1  => This is negative index\n",
        "\n",
        "'''\n",
        "c = name[-4:-1]# is same as name[1:4]\n",
        "print(c)"
      ],
      "execution_count": null,
      "outputs": [
        {
          "output_type": "stream",
          "text": [
            "arr\n"
          ],
          "name": "stdout"
        }
      ]
    },
    {
      "cell_type": "code",
      "metadata": {
        "colab": {
          "base_uri": "https://localhost:8080/"
        },
        "id": "xGe03kfqkKDp",
        "outputId": "7062de98-0fb7-4b32-c871-713d874dba55"
      },
      "source": [
        "#Slicing With Skipp Value\n",
        "d = name[0:5:1]\n",
        "print(d)\n",
        "d = name[0:5:2] # every times one character skipp value print\n",
        "print(d)\n",
        "story = \"Once upon a time there was a youtuber named harry who uploaded python course woth notes\"\n",
        "print(story[0:6])\n",
        "#Print Length of string\n",
        "print(len(story))\n",
        "# check last string true or false\n",
        "print(story.endswith(\"notes\"))\n",
        "print(story.endswith(\"harry\"))#because last string is not harry\n",
        "# Count function\n",
        "print(story.count('a'))\n",
        "print(story.count(\"once\"))\n"
      ],
      "execution_count": null,
      "outputs": [
        {
          "output_type": "stream",
          "text": [
            "Harry\n",
            "Hry\n",
            "Once u\n",
            "87\n",
            "True\n",
            "False\n",
            "6\n",
            "0\n"
          ],
          "name": "stdout"
        }
      ]
    },
    {
      "cell_type": "code",
      "metadata": {
        "colab": {
          "base_uri": "https://localhost:8080/"
        },
        "id": "hxGByS3WoEpO",
        "outputId": "4939771c-7e78-4abb-9a3a-2f67ceef621e"
      },
      "source": [
        "print(story.capitalize())\n",
        "print(story.find(\"harry\"))"
      ],
      "execution_count": null,
      "outputs": [
        {
          "output_type": "stream",
          "text": [
            "Once upon a time there was a youtuber named harry who uploaded python course woth notes\n",
            "44\n"
          ],
          "name": "stdout"
        }
      ]
    },
    {
      "cell_type": "code",
      "metadata": {
        "colab": {
          "base_uri": "https://localhost:8080/"
        },
        "id": "SDuaC0TYoE-i",
        "outputId": "708b3535-9f25-47c7-9309-765210b4a63b"
      },
      "source": [
        "print(story.replace(\"harry\",\"CodeWithHarry\"))"
      ],
      "execution_count": null,
      "outputs": [
        {
          "output_type": "stream",
          "text": [
            "Once upon a time there was a youtuber named CodeWithHarry who uploaded python course woth notes\n"
          ],
          "name": "stdout"
        }
      ]
    },
    {
      "cell_type": "code",
      "metadata": {
        "colab": {
          "base_uri": "https://localhost:8080/"
        },
        "id": "ppd0mte3pCQA",
        "outputId": "8eab5e8d-a221-4769-ccc9-12b452b261ba"
      },
      "source": [
        "#Escape Sequence Character:\n",
        "letter = '''Dear <|NAME|>,Greetingd from ABC coding house.I'm happy to tell you about your\n",
        "you are selected!\n",
        "Have a great day ahead!\n",
        "Thanks and regards,\n",
        "Billo\n",
        "Date :<|DATE|>\n",
        "'''\n",
        "name = input(\"Enter Your Name\\n\")\n",
        "date = input(\"Enter Date\\n\")\n",
        "letter = letter.replace(\"<|NAME|>\",name)\n",
        "letter = letter.replace(\"|DATE|>\",date)\n",
        "print(letter)"
      ],
      "execution_count": null,
      "outputs": [
        {
          "output_type": "stream",
          "text": [
            "Enter Your Name\n",
            "harry\n",
            "Enter Date\n",
            "01/01/1997\n",
            "Dear harry,Greetingd from ABC coding house.I'm happy to tell you about your\n",
            "you are selected!\n",
            "Have a great day ahead!\n",
            "Thanks and regards,\n",
            "Billo\n",
            "Date :<01/01/1997\n",
            "\n"
          ],
          "name": "stdout"
        }
      ]
    },
    {
      "cell_type": "code",
      "metadata": {
        "colab": {
          "base_uri": "https://localhost:8080/"
        },
        "id": "1qXKjZ_MpCbh",
        "outputId": "3f27bda8-6ba8-4455-a7e2-0b75c999a2de"
      },
      "source": [
        "#List\n",
        "friends = [\"Harry\",\"Tom\",\"Rohan\",\"Sam\",\"Divya\",45]\n",
        "print(friends[0:4])\n",
        "print(friends[-4:])# startm with -4 index means Rohan starting and end upto 45\n",
        "\n"
      ],
      "execution_count": null,
      "outputs": [
        {
          "output_type": "stream",
          "text": [
            "['Harry', 'Tom', 'Rohan', 'Sam']\n",
            "['Rohan', 'Sam', 'Divya', 45]\n"
          ],
          "name": "stdout"
        }
      ]
    },
    {
      "cell_type": "code",
      "metadata": {
        "colab": {
          "base_uri": "https://localhost:8080/"
        },
        "id": "dy4AR7UdpCoD",
        "outputId": "4d36c1ab-c1fe-453e-faeb-cbc3be4817d7"
      },
      "source": [
        "l1 = [1,8,7,2,15]\n",
        "l1.sort()\n",
        "print(l1)"
      ],
      "execution_count": null,
      "outputs": [
        {
          "output_type": "stream",
          "text": [
            "[1, 2, 7, 8, 15]\n"
          ],
          "name": "stdout"
        }
      ]
    },
    {
      "cell_type": "code",
      "metadata": {
        "colab": {
          "base_uri": "https://localhost:8080/"
        },
        "id": "pV1X1UZfFweC",
        "outputId": "cfde2a29-e02e-4f6c-f872-377be35e2954"
      },
      "source": [
        "l1_sorted = l1.sort()\n",
        "print(l1_sorted)#means l1.sort store l1_sorted another sorted function"
      ],
      "execution_count": null,
      "outputs": [
        {
          "output_type": "stream",
          "text": [
            "None\n"
          ],
          "name": "stdout"
        }
      ]
    },
    {
      "cell_type": "code",
      "metadata": {
        "colab": {
          "base_uri": "https://localhost:8080/"
        },
        "id": "rLmIEP4ZFww3",
        "outputId": "5982eb9e-d6db-4e6f-eb47-9dfc715f0516"
      },
      "source": [
        "l1.reverse()\n",
        "print(l1)"
      ],
      "execution_count": null,
      "outputs": [
        {
          "output_type": "stream",
          "text": [
            "[15, 8, 7, 2, 1]\n"
          ],
          "name": "stdout"
        }
      ]
    },
    {
      "cell_type": "code",
      "metadata": {
        "colab": {
          "base_uri": "https://localhost:8080/"
        },
        "id": "o7wYrIdVFw8r",
        "outputId": "3018ef7c-599c-4738-b276-5d3872a89f8d"
      },
      "source": [
        "#l1.append() method\n",
        "#print(l1)\n",
        "l1.append(22)\n",
        "print(l1)"
      ],
      "execution_count": null,
      "outputs": [
        {
          "output_type": "stream",
          "text": [
            "[15, 8, 7, 2, 1, 22]\n"
          ],
          "name": "stdout"
        }
      ]
    },
    {
      "cell_type": "code",
      "metadata": {
        "colab": {
          "base_uri": "https://localhost:8080/"
        },
        "id": "-awGjILLHeGP",
        "outputId": "c29a6fed-7590-42f8-8235-ee57b3f60e51"
      },
      "source": [
        "#Insert method\n",
        "l1.insert(1,25)# means index 1 value added the 25\n",
        "print(l1)"
      ],
      "execution_count": null,
      "outputs": [
        {
          "output_type": "stream",
          "text": [
            "[15, 25, 8, 7, 2, 1, 22]\n"
          ],
          "name": "stdout"
        }
      ]
    },
    {
      "cell_type": "code",
      "metadata": {
        "id": "yNNBghjHHeTe",
        "colab": {
          "base_uri": "https://localhost:8080/"
        },
        "outputId": "5a9459ea-bb95-4280-e2ee-befe3bc50188"
      },
      "source": [
        "fruits = [\"Mango\",\"Grapes\",\"Apple\",\"Fig\"]\n",
        "fruits.sort()\n",
        "fruits"
      ],
      "execution_count": null,
      "outputs": [
        {
          "output_type": "execute_result",
          "data": {
            "text/plain": [
              "['Apple', 'Fig', 'Grapes', 'Mango']"
            ]
          },
          "metadata": {},
          "execution_count": 65
        }
      ]
    },
    {
      "cell_type": "code",
      "metadata": {
        "colab": {
          "base_uri": "https://localhost:8080/"
        },
        "id": "NRTZIq7_MQz2",
        "outputId": "20678c69-eb34-41f0-d1c0-368e7dd74ac7"
      },
      "source": [
        "print(fruits[0]+fruits[1]+fruits[2]+fruits[3])"
      ],
      "execution_count": null,
      "outputs": [
        {
          "output_type": "stream",
          "text": [
            "AppleFigGrapesMango\n"
          ],
          "name": "stdout"
        }
      ]
    },
    {
      "cell_type": "code",
      "metadata": {
        "colab": {
          "base_uri": "https://localhost:8080/"
        },
        "id": "pSixb1pVMRAD",
        "outputId": "e852820d-df5f-489a-bd3d-6b155c9fce87"
      },
      "source": [
        "a = [2,3,4]\n",
        "print(a[0]+a[1]+a[2])"
      ],
      "execution_count": null,
      "outputs": [
        {
          "output_type": "stream",
          "text": [
            "9\n"
          ],
          "name": "stdout"
        }
      ]
    },
    {
      "cell_type": "code",
      "metadata": {
        "colab": {
          "base_uri": "https://localhost:8080/"
        },
        "id": "7crPAKk9Vr32",
        "outputId": "7514bce3-3843-49a1-be7d-74253912c474"
      },
      "source": [
        "#Touple does not change the item values\n",
        "t1 = (1,2,3,4)\n",
        "#Printing the elements of tuple\n",
        "print(t[0])\n",
        "#Cannot update the values of a tuple\n",
        "#t[0] =32"
      ],
      "execution_count": 73,
      "outputs": [
        {
          "output_type": "stream",
          "text": [
            "1\n"
          ],
          "name": "stdout"
        }
      ]
    },
    {
      "cell_type": "code",
      "metadata": {
        "id": "QkPYcpX3VsJL"
      },
      "source": [
        "#t1 = () Empty tuple\n",
        "#t1 = (1)#worong way to declare a tuple with single element (tuple with only one element needs a comma)\n",
        "#t1 = (1,)# tuple with single element \n",
        "#t1 = (1,2,4) touple with more than one element\n",
        "#But touple value can not changes \n",
        "#same method in touple"
      ],
      "execution_count": null,
      "outputs": []
    },
    {
      "cell_type": "code",
      "metadata": {
        "colab": {
          "base_uri": "https://localhost:8080/"
        },
        "id": "uGyNfiuBXqYU",
        "outputId": "24db4bc7-5866-423e-c460-c66b2b77304b"
      },
      "source": [
        "t1.count(2)\n"
      ],
      "execution_count": 75,
      "outputs": [
        {
          "output_type": "execute_result",
          "data": {
            "text/plain": [
              "1"
            ]
          },
          "metadata": {},
          "execution_count": 75
        }
      ]
    },
    {
      "cell_type": "code",
      "metadata": {
        "colab": {
          "base_uri": "https://localhost:8080/"
        },
        "id": "G7REoGlmX-F_",
        "outputId": "8c4baf0e-8c68-45fb-8962-1bd7b49c8fcf"
      },
      "source": [
        "t1.index(2)#so 2 number is index 1 is showing"
      ],
      "execution_count": 77,
      "outputs": [
        {
          "output_type": "execute_result",
          "data": {
            "text/plain": [
              "1"
            ]
          },
          "metadata": {},
          "execution_count": 77
        }
      ]
    },
    {
      "cell_type": "code",
      "metadata": {
        "colab": {
          "base_uri": "https://localhost:8080/"
        },
        "id": "s1JI-pYyYLUT",
        "outputId": "647e091f-98e7-46ab-b388-804c2283410c"
      },
      "source": [
        "m1 = int(input(\"Enter Marks for Student Number 1: \"))\n",
        "m2 = int(input(\"Enter Marks for Student Number 2:\"))\n",
        "m3 = int(input(\"Enter Marks for Student Number 3: \"))\n",
        "m4 = int(input(\"Enter Marks for Student Number 4: \"))\n",
        "m5 = int(input(\"Enter Marks for Student Number 5: \"))\n",
        "mylist = [m1,m2,m3,m4,m5]\n",
        "mylist.sort()\n",
        "print(mylist)\n"
      ],
      "execution_count": 87,
      "outputs": [
        {
          "output_type": "stream",
          "text": [
            "Enter Marks for Student Number 1: 9\n",
            "Enter Marks for Student Number 2:8\n",
            "Enter Marks for Student Number 3: 7\n",
            "Enter Marks for Student Number 4: 5\n",
            "Enter Marks for Student Number 5: 1\n",
            "[1, 5, 7, 8, 9]\n"
          ],
          "name": "stdout"
        }
      ]
    },
    {
      "cell_type": "code",
      "metadata": {
        "colab": {
          "base_uri": "https://localhost:8080/"
        },
        "id": "l0p8VOkwcFgv",
        "outputId": "9debd590-acb4-45ac-d5ee-0af1359af0a7"
      },
      "source": [
        "# Dictionary ->key:value\n",
        "#dictonary is immutable value are changes\n",
        "#key is changes but replaces the key previous key value not printed only replaces the key \n",
        "mydict = {\n",
        "    \"Fast\":\"In a Quick Manner\",\n",
        "     \"Harry\":\"A Coder\",\n",
        "     \"Marks\":[1,2,3],\n",
        "     \"dict\":{'harry':'player'}\n",
        "}\n",
        "print(mydict['Fast'])\n",
        "print(mydict['Harry'])\n",
        "print(mydict['Marks'])\n",
        "print(mydict['dict'])\n",
        "print(mydict['dict']['harry'])#harry is key and value is player\n",
        "\n"
      ],
      "execution_count": 100,
      "outputs": [
        {
          "output_type": "stream",
          "text": [
            "In a Quick Manner\n",
            "A Coder\n",
            "[1, 2, 3]\n",
            "{'harry': 'player'}\n",
            "player\n"
          ],
          "name": "stdout"
        }
      ]
    },
    {
      "cell_type": "code",
      "metadata": {
        "colab": {
          "base_uri": "https://localhost:8080/"
        },
        "id": "DAGuAgFVdZaS",
        "outputId": "c2b8a435-0e73-4b3c-ee65-7d7b1b8006df"
      },
      "source": [
        "#print the all keys\n",
        "print(mydict.keys())\n",
        "#Also print the values\n",
        "print(mydict.values())"
      ],
      "execution_count": 103,
      "outputs": [
        {
          "output_type": "stream",
          "text": [
            "dict_keys(['Fast', 'Harry', 'Marks', 'dict'])\n",
            "dict_values(['In a Quick Manner', 'A Coder', [1, 2, 3], {'harry': 'player'}])\n"
          ],
          "name": "stdout"
        }
      ]
    },
    {
      "cell_type": "code",
      "metadata": {
        "colab": {
          "base_uri": "https://localhost:8080/"
        },
        "id": "G5IeXE0odZta",
        "outputId": "604552a1-c256-4948-c73f-1d0ebcea0b55"
      },
      "source": [
        "print(list(mydict.keys()))\n",
        "print(list(mydict.values()))\n"
      ],
      "execution_count": 104,
      "outputs": [
        {
          "output_type": "stream",
          "text": [
            "['Fast', 'Harry', 'Marks', 'dict']\n",
            "['In a Quick Manner', 'A Coder', [1, 2, 3], {'harry': 'player'}]\n"
          ],
          "name": "stdout"
        }
      ]
    },
    {
      "cell_type": "code",
      "metadata": {
        "colab": {
          "base_uri": "https://localhost:8080/"
        },
        "id": "Es2b61XtcFtV",
        "outputId": "d1fcde90-3021-4053-9f1c-561a62dee25f"
      },
      "source": [
        "print(mydict)\n",
        "#Add a new dictionary\n",
        "updatedict = {\n",
        "    \"Lovish\":\"Friend\",\n",
        "    \"Hello\" :\"Friend\",\n",
        "    \"Harry\" : \"Dancer\"# every Harry name updated the Dancer\n",
        "}\n",
        "mydict.update(updatedict)#updates the dictornary by adding key-value pair  from updatedict\n",
        "print(mydict)\n"
      ],
      "execution_count": 109,
      "outputs": [
        {
          "output_type": "stream",
          "text": [
            "{'Fast': 'In a Quick Manner', 'Harry': 'A Coder', 'Marks': [1, 2, 3], 'dict': {'harry': 'player'}, 'Lovish': 'Friend', 'Hello': 'Friend'}\n",
            "{'Fast': 'In a Quick Manner', 'Harry': 'Dancer', 'Marks': [1, 2, 3], 'dict': {'harry': 'player'}, 'Lovish': 'Friend', 'Hello': 'Friend'}\n"
          ],
          "name": "stdout"
        }
      ]
    },
    {
      "cell_type": "code",
      "metadata": {
        "id": "LhPhb8TyoMYX"
      },
      "source": [
        "# The difference between .get and [] syntax in dictionaries ?\n",
        "#print(mydict.get(\"harry\"))# Prints value associated with key harry\n",
        "#print(mydict.get[\"harry\"])# Prints value associated with key harry\n",
        "#print(mydict.get(\"harry2\"))# Returns None as harry2 is not present in the dictionary\n",
        "#print(mydict[\"harry2\"])# throws an error as harry2 is not present in the dictionary"
      ],
      "execution_count": 111,
      "outputs": []
    },
    {
      "cell_type": "code",
      "metadata": {
        "id": "t1VRudPHoMvq"
      },
      "source": [
        ""
      ],
      "execution_count": null,
      "outputs": []
    }
  ]
}