{
  "nbformat": 4,
  "nbformat_minor": 0,
  "metadata": {
    "colab": {
      "name": "python_practice1.ipynb",
      "provenance": [],
      "authorship_tag": "ABX9TyOJkG6qIfixAFUWfWuCGOOg",
      "include_colab_link": true
    },
    "kernelspec": {
      "name": "python3",
      "display_name": "Python 3"
    },
    "language_info": {
      "name": "python"
    }
  },
  "cells": [
    {
      "cell_type": "markdown",
      "metadata": {
        "id": "view-in-github",
        "colab_type": "text"
      },
      "source": [
        "<a href=\"https://colab.research.google.com/github/faizan1402/pythontraining/blob/master/python_practice1.ipynb\" target=\"_parent\"><img src=\"https://colab.research.google.com/assets/colab-badge.svg\" alt=\"Open In Colab\"/></a>"
      ]
    },
    {
      "cell_type": "code",
      "metadata": {
        "colab": {
          "base_uri": "https://localhost:8080/"
        },
        "id": "XoCj9_uLLB62",
        "outputId": "3afbe089-851c-4ee9-bd6a-da4f31436236"
      },
      "source": [
        "print(\"hello\")"
      ],
      "execution_count": null,
      "outputs": [
        {
          "output_type": "stream",
          "text": [
            "hello\n"
          ],
          "name": "stdout"
        }
      ]
    },
    {
      "cell_type": "code",
      "metadata": {
        "colab": {
          "base_uri": "https://localhost:8080/",
          "height": 35
        },
        "id": "maWEehxDLIXV",
        "outputId": "bad4be1d-35a6-44a7-9a6b-bb0bea8efb75"
      },
      "source": [
        "\"hello\""
      ],
      "execution_count": null,
      "outputs": [
        {
          "output_type": "execute_result",
          "data": {
            "application/vnd.google.colaboratory.intrinsic+json": {
              "type": "string"
            },
            "text/plain": [
              "'hello'"
            ]
          },
          "metadata": {
            "tags": []
          },
          "execution_count": 2
        }
      ]
    },
    {
      "cell_type": "code",
      "metadata": {
        "colab": {
          "base_uri": "https://localhost:8080/"
        },
        "id": "jPCL7O9TLPP_",
        "outputId": "88760987-1ff6-4d69-d369-e082a7c03887"
      },
      "source": [
        "2==2"
      ],
      "execution_count": null,
      "outputs": [
        {
          "output_type": "execute_result",
          "data": {
            "text/plain": [
              "True"
            ]
          },
          "metadata": {
            "tags": []
          },
          "execution_count": 3
        }
      ]
    },
    {
      "cell_type": "code",
      "metadata": {
        "colab": {
          "base_uri": "https://localhost:8080/"
        },
        "id": "qyHXvxZELRV0",
        "outputId": "588938a2-7ad0-41bc-fdb4-2f3817b14a08"
      },
      "source": [
        "2<1"
      ],
      "execution_count": null,
      "outputs": [
        {
          "output_type": "execute_result",
          "data": {
            "text/plain": [
              "False"
            ]
          },
          "metadata": {
            "tags": []
          },
          "execution_count": 4
        }
      ]
    },
    {
      "cell_type": "code",
      "metadata": {
        "colab": {
          "base_uri": "https://localhost:8080/"
        },
        "id": "Q1-KqXSZLTF9",
        "outputId": "2b10e326-45e0-40d2-c681-02f14b0f757b"
      },
      "source": [
        "3!=2"
      ],
      "execution_count": null,
      "outputs": [
        {
          "output_type": "execute_result",
          "data": {
            "text/plain": [
              "True"
            ]
          },
          "metadata": {
            "tags": []
          },
          "execution_count": 5
        }
      ]
    },
    {
      "cell_type": "code",
      "metadata": {
        "colab": {
          "base_uri": "https://localhost:8080/"
        },
        "id": "nAbONKSFLV2k",
        "outputId": "4d7629d1-7fbe-4801-a445-884c7bb0c9aa"
      },
      "source": [
        "3!=3"
      ],
      "execution_count": null,
      "outputs": [
        {
          "output_type": "execute_result",
          "data": {
            "text/plain": [
              "False"
            ]
          },
          "metadata": {
            "tags": []
          },
          "execution_count": 6
        }
      ]
    },
    {
      "cell_type": "code",
      "metadata": {
        "colab": {
          "base_uri": "https://localhost:8080/"
        },
        "id": "YwZfx3STLYBP",
        "outputId": "5e2443f0-8953-4923-dad5-803781a2d6c4"
      },
      "source": [
        "a = [1,2,3,4]\n",
        "a"
      ],
      "execution_count": null,
      "outputs": [
        {
          "output_type": "execute_result",
          "data": {
            "text/plain": [
              "[1, 2, 3, 4]"
            ]
          },
          "metadata": {
            "tags": []
          },
          "execution_count": 7
        }
      ]
    },
    {
      "cell_type": "code",
      "metadata": {
        "colab": {
          "base_uri": "https://localhost:8080/"
        },
        "id": "Uw8RqJQeLgnR",
        "outputId": "c0dfdf0b-0783-44b2-b7cb-0e7e177cd4e3"
      },
      "source": [
        "import keyword\n",
        "#total keyword ->33 keyword\n",
        "print(keyword.kwlist)"
      ],
      "execution_count": null,
      "outputs": [
        {
          "output_type": "stream",
          "text": [
            "['False', 'None', 'True', 'and', 'as', 'assert', 'async', 'await', 'break', 'class', 'continue', 'def', 'del', 'elif', 'else', 'except', 'finally', 'for', 'from', 'global', 'if', 'import', 'in', 'is', 'lambda', 'nonlocal', 'not', 'or', 'pass', 'raise', 'return', 'try', 'while', 'with', 'yield']\n"
          ],
          "name": "stdout"
        }
      ]
    },
    {
      "cell_type": "code",
      "metadata": {
        "id": "foXBNJHALmux"
      },
      "source": [
        ""
      ],
      "execution_count": null,
      "outputs": []
    },
    {
      "cell_type": "code",
      "metadata": {
        "colab": {
          "base_uri": "https://localhost:8080/"
        },
        "id": "DUEvjsiqN-4n",
        "outputId": "f8f560ca-e164-4198-eea6-1df857704838"
      },
      "source": [
        "print(2,3,4,\"+\",\"%\")"
      ],
      "execution_count": null,
      "outputs": [
        {
          "output_type": "stream",
          "text": [
            "2 3 4 + %\n"
          ],
          "name": "stdout"
        }
      ]
    },
    {
      "cell_type": "code",
      "metadata": {
        "colab": {
          "base_uri": "https://localhost:8080/"
        },
        "id": "A-j43xoXPVV-",
        "outputId": "393f11da-f131-49f2-bc6b-876a27040339"
      },
      "source": [
        "n = input(\"Enter a number:\")\n",
        "print(\"The Number is \",n)"
      ],
      "execution_count": null,
      "outputs": [
        {
          "output_type": "stream",
          "text": [
            "Enter a number:5\n",
            "The Number is  5\n"
          ],
          "name": "stdout"
        }
      ]
    },
    {
      "cell_type": "code",
      "metadata": {
        "colab": {
          "base_uri": "https://localhost:8080/"
        },
        "id": "ry-_Ja30QCzQ",
        "outputId": "6e4128c7-1c49-4b1c-ef7e-78c995fca45b"
      },
      "source": [
        "import math\n",
        "math.pi"
      ],
      "execution_count": null,
      "outputs": [
        {
          "output_type": "execute_result",
          "data": {
            "text/plain": [
              "3.141592653589793"
            ]
          },
          "metadata": {
            "tags": []
          },
          "execution_count": 12
        }
      ]
    },
    {
      "cell_type": "code",
      "metadata": {
        "colab": {
          "base_uri": "https://localhost:8080/"
        },
        "id": "GXSMPA_YRWQ5",
        "outputId": "b8c369e3-a9d7-4b04-ec42-86ab88fcd1e2"
      },
      "source": [
        "#bitwise operators\n",
        "a=60\n",
        "b=2\n",
        "print(a&b)\n",
        "print(a|b)\n",
        "print(a^b)\n",
        "print(a>>b)#binary right shift\n",
        "print(a<<b)#binary left shift"
      ],
      "execution_count": null,
      "outputs": [
        {
          "output_type": "stream",
          "text": [
            "0\n",
            "62\n",
            "62\n",
            "15\n",
            "240\n"
          ],
          "name": "stdout"
        }
      ]
    },
    {
      "cell_type": "code",
      "metadata": {
        "colab": {
          "base_uri": "https://localhost:8080/"
        },
        "id": "C3ufAxuracSc",
        "outputId": "a4d2f4b7-c752-4bf4-81e4-8f452cbdc57b"
      },
      "source": [
        "a =2\n",
        "b=2\n",
        "c=2\n",
        "print(a>=b)and(b<=c)"
      ],
      "execution_count": null,
      "outputs": [
        {
          "output_type": "stream",
          "text": [
            "True\n"
          ],
          "name": "stdout"
        }
      ]
    },
    {
      "cell_type": "code",
      "metadata": {
        "colab": {
          "base_uri": "https://localhost:8080/"
        },
        "id": "vY6Og3WOdIFe",
        "outputId": "ddd0b57d-88d0-4919-f3f6-68cf75c43660"
      },
      "source": [
        "a =2\n",
        "b=2\n",
        "c=2\n",
        "print(a>=b)and(b<=c)"
      ],
      "execution_count": null,
      "outputs": [
        {
          "output_type": "stream",
          "text": [
            "True\n"
          ],
          "name": "stdout"
        }
      ]
    },
    {
      "cell_type": "code",
      "metadata": {
        "colab": {
          "base_uri": "https://localhost:8080/"
        },
        "id": "9HL3EOiVd2VQ",
        "outputId": "25851787-3ccd-4a46-ef1b-50ff1f23edc5"
      },
      "source": [
        "# Membership Operators\n",
        "s='abcde'\n",
        "print('a' in s)\n",
        "print('f'in s)"
      ],
      "execution_count": null,
      "outputs": [
        {
          "output_type": "stream",
          "text": [
            "True\n",
            "False\n"
          ],
          "name": "stdout"
        }
      ]
    },
    {
      "cell_type": "code",
      "metadata": {
        "id": "_f7vDMaQd26_",
        "colab": {
          "base_uri": "https://localhost:8080/"
        },
        "outputId": "dedd5e36-9b6a-4a17-9983-b54ccf8f2308"
      },
      "source": [
        "# Operator precedence\n",
        "\n",
        "b = [2,3,4,5]\n",
        "for i in b:\n",
        "  print(b)"
      ],
      "execution_count": null,
      "outputs": [
        {
          "output_type": "stream",
          "text": [
            "[2, 3, 4, 5]\n",
            "[2, 3, 4, 5]\n",
            "[2, 3, 4, 5]\n",
            "[2, 3, 4, 5]\n"
          ],
          "name": "stdout"
        }
      ]
    },
    {
      "cell_type": "code",
      "metadata": {
        "colab": {
          "base_uri": "https://localhost:8080/"
        },
        "id": "9wchGSSnIL-U",
        "outputId": "1a3dff28-2c25-4651-8445-7ca3d8b4ec8b"
      },
      "source": [
        "print(\"good one\")"
      ],
      "execution_count": null,
      "outputs": [
        {
          "output_type": "stream",
          "text": [
            "good one\n"
          ],
          "name": "stdout"
        }
      ]
    },
    {
      "cell_type": "code",
      "metadata": {
        "colab": {
          "base_uri": "https://localhost:8080/"
        },
        "id": "n4Nvaf3PIMZN",
        "outputId": "5b5e01e9-8a74-40d7-dd94-912f3dd7f12e"
      },
      "source": [
        "c= 2\n",
        "a = 2.5\n",
        "b = True\n",
        "b\n"
      ],
      "execution_count": null,
      "outputs": [
        {
          "output_type": "execute_result",
          "data": {
            "text/plain": [
              "True"
            ]
          },
          "metadata": {},
          "execution_count": 12
        }
      ]
    },
    {
      "cell_type": "code",
      "metadata": {
        "id": "qurmFNo3IMmn"
      },
      "source": [
        "d = None\n",
        "d"
      ],
      "execution_count": null,
      "outputs": []
    },
    {
      "cell_type": "code",
      "metadata": {
        "colab": {
          "base_uri": "https://localhost:8080/"
        },
        "id": "-I2heAZMd8c6",
        "outputId": "0cf45202-b14b-4eaf-b8d3-2bcf5f691131"
      },
      "source": [
        "#Printing the variables name\n",
        "print(type(b))"
      ],
      "execution_count": null,
      "outputs": [
        {
          "output_type": "stream",
          "text": [
            "<class 'bool'>\n"
          ],
          "name": "stdout"
        }
      ]
    },
    {
      "cell_type": "code",
      "metadata": {
        "colab": {
          "base_uri": "https://localhost:8080/"
        },
        "id": "aDV-mSg7d8t6",
        "outputId": "7cd3df1b-828d-49a8-b59a-38549919dfd5"
      },
      "source": [
        "print(type(d))\n",
        "print(type(a))\n",
        "print(type(c))"
      ],
      "execution_count": null,
      "outputs": [
        {
          "output_type": "stream",
          "text": [
            "<class 'NoneType'>\n",
            "<class 'float'>\n",
            "<class 'int'>\n"
          ],
          "name": "stdout"
        }
      ]
    },
    {
      "cell_type": "code",
      "metadata": {
        "id": "i5Y-6322emRj"
      },
      "source": [
        "#before variable number digit can not start\n",
        "b_2 = 4"
      ],
      "execution_count": null,
      "outputs": []
    },
    {
      "cell_type": "code",
      "metadata": {
        "id": "zzCLK6tkeme2"
      },
      "source": [
        ""
      ],
      "execution_count": null,
      "outputs": []
    },
    {
      "cell_type": "markdown",
      "metadata": {
        "id": "tzuWRQGYf8TI"
      },
      "source": [
        "#**Four Operators in python**"
      ]
    },
    {
      "cell_type": "code",
      "metadata": {
        "colab": {
          "base_uri": "https://localhost:8080/"
        },
        "id": "n_bTtmEOemu4",
        "outputId": "74328869-ae1d-4ab7-9879-f57d40d40417"
      },
      "source": [
        "# Arithmetic Operators => +,-*,/ etc\n",
        "# Assigment Operators => =,+=,-= etc\n",
        "# Comparision Operators => ==,>,>=,<,!= etc\n",
        "# Logical Operators => and,or,not\n",
        "\n",
        "print(\"The value of 3+4 is \",3+4 )\n",
        "print(\"The value of 3-4 is\",3-4)\n",
        "\n",
        "\n",
        "\n",
        "\n",
        "\n"
      ],
      "execution_count": null,
      "outputs": [
        {
          "output_type": "stream",
          "text": [
            "The value of 3+4 is  7\n",
            "The value of 3-4 is -1\n"
          ],
          "name": "stdout"
        }
      ]
    },
    {
      "cell_type": "code",
      "metadata": {
        "id": "ut1pLacDem7m",
        "colab": {
          "base_uri": "https://localhost:8080/"
        },
        "outputId": "639f72df-1487-4adb-a382-1febca8f2c8e"
      },
      "source": [
        "# Assignment Operators\n",
        "a = 34\n",
        "a -=12\n",
        "a /=12\n",
        "print(a)"
      ],
      "execution_count": 3,
      "outputs": [
        {
          "output_type": "stream",
          "text": [
            "1.8333333333333333\n"
          ],
          "name": "stdout"
        }
      ]
    },
    {
      "cell_type": "code",
      "metadata": {
        "colab": {
          "base_uri": "https://localhost:8080/"
        },
        "id": "0NqtaCdAV0aK",
        "outputId": "39e972ee-ec7a-4ce9-b60f-ed1b6b079556"
      },
      "source": [
        "#Comparision Operators\n",
        "b = (4>7)\n",
        "print(b)\n",
        "c = (3>2)\n",
        "d = (3==3)\n",
        "e = (3>=4)\n",
        "f = (14!=7)\n",
        "print(c)\n",
        "print(d)\n",
        "print(e)\n",
        "print(f)"
      ],
      "execution_count": 6,
      "outputs": [
        {
          "output_type": "stream",
          "text": [
            "False\n",
            "True\n",
            "True\n",
            "False\n",
            "True\n"
          ],
          "name": "stdout"
        }
      ]
    },
    {
      "cell_type": "code",
      "metadata": {
        "colab": {
          "base_uri": "https://localhost:8080/"
        },
        "id": "4SIFZwhPV1C-",
        "outputId": "c4be99bc-3153-41bd-f18f-89909c35fb7a"
      },
      "source": [
        "# Logical Operators\n",
        "bool1 = True\n",
        "bool2 = False\n",
        "print(\"The value of bool1 and bool2 is\",(bool1 and bool2))\n",
        "print(\"The value of bool1 and bool2 is\",(bool1 or bool2))\n",
        "print(\"The value of not bool2 is\",(not bool2 ))"
      ],
      "execution_count": 7,
      "outputs": [
        {
          "output_type": "stream",
          "text": [
            "The value of bool1 and bool2 is False\n",
            "The value of bool1 and bool2 is True\n",
            "The value of not bool2 is True\n"
          ],
          "name": "stdout"
        }
      ]
    },
    {
      "cell_type": "code",
      "metadata": {
        "colab": {
          "base_uri": "https://localhost:8080/"
        },
        "id": "I6yxId14V1TQ",
        "outputId": "88993c75-cb31-4815-cb87-0fb1bd6fa7f1"
      },
      "source": [
        "# Typecasting means one data type to another data type\n",
        "#int to string => conversion\n",
        "\n",
        "a = \"3534\"\n",
        "a = int(a)\n",
        "print(type(a))\n",
        "print(a +5)"
      ],
      "execution_count": 11,
      "outputs": [
        {
          "output_type": "stream",
          "text": [
            "<class 'int'>\n",
            "3539\n"
          ],
          "name": "stdout"
        }
      ]
    },
    {
      "cell_type": "code",
      "metadata": {
        "colab": {
          "base_uri": "https://localhost:8080/"
        },
        "id": "RDEh2SrOV1hm",
        "outputId": "78bdcaed-92e1-4450-b20d-3916d9ba38d7"
      },
      "source": [
        "#Input Function\n",
        "b = input(\"Enter Your Name\")\n",
        "print(b)"
      ],
      "execution_count": 14,
      "outputs": [
        {
          "output_type": "stream",
          "text": [
            "Enter Your NameFaizan Ahmad\n",
            "Faizan Ahmad\n"
          ],
          "name": "stdout"
        }
      ]
    },
    {
      "cell_type": "code",
      "metadata": {
        "colab": {
          "base_uri": "https://localhost:8080/"
        },
        "id": "ywkCPCDuaOlD",
        "outputId": "b24e38ad-abe1-4dce-96a0-02c8702ae081"
      },
      "source": [
        "a=45\n",
        "b=15\n",
        "print(\"The remainder when a is divided by b is\",a%b)"
      ],
      "execution_count": 16,
      "outputs": [
        {
          "output_type": "stream",
          "text": [
            "The remainder when a is divided by b is 0\n"
          ],
          "name": "stdout"
        }
      ]
    },
    {
      "cell_type": "code",
      "metadata": {
        "colab": {
          "base_uri": "https://localhost:8080/"
        },
        "id": "bOyt7XIXaOwa",
        "outputId": "5bef90b2-8403-4412-ee00-8122289a9a49"
      },
      "source": [
        "a = input(\"Enter First Number:\")\n",
        "b = input(\"Enter Second Number: \")\n",
        "a = int(a)\n",
        "b = int(b)\n",
        "avg = (a+b)/2\n",
        "print(\"The average of a and b is\",avg)"
      ],
      "execution_count": 1,
      "outputs": [
        {
          "output_type": "stream",
          "text": [
            "Enter First Number:2\n",
            "Enter Second Number: 3\n",
            "The average of a and b is 2.5\n"
          ],
          "name": "stdout"
        }
      ]
    },
    {
      "cell_type": "code",
      "metadata": {
        "colab": {
          "base_uri": "https://localhost:8080/"
        },
        "id": "l9gZlxzeaO5s",
        "outputId": "b699251b-2b5c-4945-ef90-791f84b89bf3"
      },
      "source": [
        "b = \"Hello\"\n",
        "print(b)\n",
        "c = '''Hello'''\n",
        "print(c)"
      ],
      "execution_count": 2,
      "outputs": [
        {
          "output_type": "stream",
          "text": [
            "Hello\n",
            "Hello\n"
          ],
          "name": "stdout"
        }
      ]
    },
    {
      "cell_type": "code",
      "metadata": {
        "id": "xH6lbP0kaPEa"
      },
      "source": [
        ""
      ],
      "execution_count": null,
      "outputs": []
    }
  ]
}