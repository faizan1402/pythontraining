{
  "nbformat": 4,
  "nbformat_minor": 0,
  "metadata": {
    "colab": {
      "name": "full_basic_python_.2.ipynb",
      "provenance": [],
      "collapsed_sections": [],
      "authorship_tag": "ABX9TyNLr28RFT/kP4faHEoebjy1",
      "include_colab_link": true
    },
    "kernelspec": {
      "name": "python3",
      "display_name": "Python 3"
    },
    "language_info": {
      "name": "python"
    }
  },
  "cells": [
    {
      "cell_type": "markdown",
      "metadata": {
        "id": "view-in-github",
        "colab_type": "text"
      },
      "source": [
        "<a href=\"https://colab.research.google.com/github/faizan1402/pythontraining/blob/master/full_basic_python__2.ipynb\" target=\"_parent\"><img src=\"https://colab.research.google.com/assets/colab-badge.svg\" alt=\"Open In Colab\"/></a>"
      ]
    },
    {
      "cell_type": "code",
      "metadata": {
        "colab": {
          "base_uri": "https://localhost:8080/"
        },
        "id": "kgSCH7FTqK3g",
        "outputId": "a3126bc6-26fe-4e05-f89c-40b19acaba28"
      },
      "source": [
        "#Set\n",
        "# set is a collection of non repeating value of elements\n",
        "# b={} -> Important : This syntax will create an dictionary and not an empty set\n",
        "#sets are unoredered\n",
        "#sets are unindexed =>can not access elements by index\n",
        "# there is way to change items in sets\n",
        "# sets can not contain duplicate values\n",
        "b = {1,2,3,4,5}\n",
        "print(b)\n",
        "print(type(b))"
      ],
      "execution_count": 3,
      "outputs": [
        {
          "output_type": "stream",
          "text": [
            "{1, 2, 3, 4, 5}\n",
            "<class 'set'>\n"
          ],
          "name": "stdout"
        }
      ]
    },
    {
      "cell_type": "code",
      "metadata": {
        "colab": {
          "base_uri": "https://localhost:8080/"
        },
        "id": "yu4xd4K8rfkO",
        "outputId": "d0de654c-64cb-43d8-82b8-9f6af00e2e30"
      },
      "source": [
        "# An empty set can be created using the below syntax:\n",
        "b = set()\n",
        "print(type(b))"
      ],
      "execution_count": 4,
      "outputs": [
        {
          "output_type": "stream",
          "text": [
            "<class 'set'>\n"
          ],
          "name": "stdout"
        }
      ]
    },
    {
      "cell_type": "code",
      "metadata": {
        "colab": {
          "base_uri": "https://localhost:8080/"
        },
        "id": "Xe5U8u4crfv-",
        "outputId": "0c70c02d-a1fe-4ca8-8f53-096f2439692d"
      },
      "source": [
        "b.add(4)\n",
        "b.add(5)\n",
        "b.add((4,5,6))#so tuple is added but list is not added with set because list is unmutable means changes the list in set not true \n",
        "b.add({4:5})# can not add list or dictionary to sets\n",
        "print(b)\n"
      ],
      "execution_count": 8,
      "outputs": [
        {
          "output_type": "stream",
          "text": [
            "{(4, 5, 6), 4, 5, 6}\n"
          ],
          "name": "stdout"
        }
      ]
    },
    {
      "cell_type": "code",
      "metadata": {
        "id": "TSR4QyzBrf6X"
      },
      "source": [
        "#Removal of an Item\n",
        "\n",
        "b.remove(5) #remove 5 from set b\n",
        "b.remove(15) # throws an error while trying to remove 15 which is not present in the set\n",
        "print(b)"
      ],
      "execution_count": 10,
      "outputs": []
    },
    {
      "cell_type": "code",
      "metadata": {
        "colab": {
          "base_uri": "https://localhost:8080/"
        },
        "id": "m82ud_dsrgFo",
        "outputId": "52068063-14af-4be8-c767-8db1343b3b7f"
      },
      "source": [
        "print(len(b))"
      ],
      "execution_count": 11,
      "outputs": [
        {
          "output_type": "stream",
          "text": [
            "3\n"
          ],
          "name": "stdout"
        }
      ]
    },
    {
      "cell_type": "code",
      "metadata": {
        "colab": {
          "base_uri": "https://localhost:8080/"
        },
        "id": "1BYOZgxYw9DW",
        "outputId": "5d2240f8-8b40-4a02-8216-822063ea5f2e"
      },
      "source": [
        "#pop method removes as arbitary element from the set and returns the element removed\n",
        "c = {1,2,3,4}\n",
        "print(c.pop())"
      ],
      "execution_count": 13,
      "outputs": [
        {
          "output_type": "stream",
          "text": [
            "1\n"
          ],
          "name": "stdout"
        }
      ]
    },
    {
      "cell_type": "code",
      "metadata": {
        "id": "945unWeTw9NT"
      },
      "source": [
        "#clear : clear method is empties the set "
      ],
      "execution_count": null,
      "outputs": []
    }
  ]
}